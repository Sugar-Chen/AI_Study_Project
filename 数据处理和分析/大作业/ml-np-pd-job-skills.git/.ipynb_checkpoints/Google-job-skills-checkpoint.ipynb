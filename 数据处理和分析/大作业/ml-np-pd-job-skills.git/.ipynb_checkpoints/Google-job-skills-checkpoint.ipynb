{
 "cells": [
  {
   "cell_type": "markdown",
   "metadata": {},
   "source": [
    "# 小象学院实践课程\n",
    "## Numpy & Pandas\n",
    "## Google工作数据\n",
    "\n",
    "这个项目中，我们将处理以csv文件格式存储的数据。数据为从https://careers.google.com/ 爬取的google招聘职位需求。\n",
    "\n",
    "Google是技术人员梦寐以求的工作圣地，想进入Google，需要什么样的条件？Google在哪些地区有招聘机会？我们一起探索。\n",
    "\n",
    "> **提示**：这样的文字将会指导你如何使用 jupyter Notebook 来完成项目。你可以通过单击代码区域，然后使用键盘快捷键 Shift+Enter 或 Shift+Return 来运行代码。或者在选择代码后使用执行（run cell）按钮执行代码。Markdown的文字区域也同样可以如此操作。\n",
    "\n",
    "> 在如下有**# TODO** 提示的地方，将代码补全，实现注释中所要求的功能。\n",
    "\n",
    "> 在有\"** 回答：**\" 提示的地方，回答其上所提出的问题。"
   ]
  },
  {
   "cell_type": "markdown",
   "metadata": {},
   "source": [
    "### 载入文件\n",
    "\n",
    "我们尝试使用Pandas的read_csv载入数据，并查看前面的几行内容。"
   ]
  },
  {
   "cell_type": "code",
   "execution_count": 1,
   "metadata": {},
   "outputs": [
    {
     "data": {
      "text/html": [
       "<div>\n",
       "<style scoped>\n",
       "    .dataframe tbody tr th:only-of-type {\n",
       "        vertical-align: middle;\n",
       "    }\n",
       "\n",
       "    .dataframe tbody tr th {\n",
       "        vertical-align: top;\n",
       "    }\n",
       "\n",
       "    .dataframe thead th {\n",
       "        text-align: right;\n",
       "    }\n",
       "</style>\n",
       "<table border=\"1\" class=\"dataframe\">\n",
       "  <thead>\n",
       "    <tr style=\"text-align: right;\">\n",
       "      <th></th>\n",
       "      <th>Company</th>\n",
       "      <th>Title</th>\n",
       "      <th>Category</th>\n",
       "      <th>Location</th>\n",
       "      <th>Responsibilities</th>\n",
       "      <th>Minimum Qualifications</th>\n",
       "      <th>Preferred Qualifications</th>\n",
       "    </tr>\n",
       "  </thead>\n",
       "  <tbody>\n",
       "    <tr>\n",
       "      <th>0</th>\n",
       "      <td>Google</td>\n",
       "      <td>Google Cloud Program Manager</td>\n",
       "      <td>Program Management</td>\n",
       "      <td>Singapore</td>\n",
       "      <td>Shape, shepherd, ship, and show technical prog...</td>\n",
       "      <td>BA/BS degree or equivalent practical experienc...</td>\n",
       "      <td>Experience in the business technology market a...</td>\n",
       "    </tr>\n",
       "    <tr>\n",
       "      <th>1</th>\n",
       "      <td>Google</td>\n",
       "      <td>Supplier Development Engineer (SDE), Cable/Con...</td>\n",
       "      <td>Manufacturing &amp; Supply Chain</td>\n",
       "      <td>Shanghai, China</td>\n",
       "      <td>Drive cross-functional activities in the suppl...</td>\n",
       "      <td>BS degree in an Engineering discipline or equi...</td>\n",
       "      <td>BSEE, BSME or BSIE degree.\\nExperience of usin...</td>\n",
       "    </tr>\n",
       "    <tr>\n",
       "      <th>2</th>\n",
       "      <td>Google</td>\n",
       "      <td>Data Analyst, Product and Tools Operations, Go...</td>\n",
       "      <td>Technical Solutions</td>\n",
       "      <td>New York, NY, United States</td>\n",
       "      <td>Collect and analyze data to draw insight and i...</td>\n",
       "      <td>Bachelor’s degree in Business, Economics, Stat...</td>\n",
       "      <td>Experience partnering or consulting cross-func...</td>\n",
       "    </tr>\n",
       "    <tr>\n",
       "      <th>3</th>\n",
       "      <td>Google</td>\n",
       "      <td>Developer Advocate, Partner Engineering</td>\n",
       "      <td>Developer Relations</td>\n",
       "      <td>Mountain View, CA, United States</td>\n",
       "      <td>Work one-on-one with the top Android, iOS, and...</td>\n",
       "      <td>BA/BS degree in Computer Science or equivalent...</td>\n",
       "      <td>Experience as a software developer, architect,...</td>\n",
       "    </tr>\n",
       "    <tr>\n",
       "      <th>4</th>\n",
       "      <td>Google</td>\n",
       "      <td>Program Manager, Audio Visual (AV) Deployments</td>\n",
       "      <td>Program Management</td>\n",
       "      <td>Sunnyvale, CA, United States</td>\n",
       "      <td>Plan requirements with internal customers.\\nPr...</td>\n",
       "      <td>BA/BS degree or equivalent practical experienc...</td>\n",
       "      <td>CTS Certification.\\nExperience in the construc...</td>\n",
       "    </tr>\n",
       "  </tbody>\n",
       "</table>\n",
       "</div>"
      ],
      "text/plain": [
       "  Company                                              Title  \\\n",
       "0  Google                       Google Cloud Program Manager   \n",
       "1  Google  Supplier Development Engineer (SDE), Cable/Con...   \n",
       "2  Google  Data Analyst, Product and Tools Operations, Go...   \n",
       "3  Google            Developer Advocate, Partner Engineering   \n",
       "4  Google     Program Manager, Audio Visual (AV) Deployments   \n",
       "\n",
       "                       Category                          Location  \\\n",
       "0            Program Management                         Singapore   \n",
       "1  Manufacturing & Supply Chain                   Shanghai, China   \n",
       "2           Technical Solutions       New York, NY, United States   \n",
       "3           Developer Relations  Mountain View, CA, United States   \n",
       "4            Program Management      Sunnyvale, CA, United States   \n",
       "\n",
       "                                    Responsibilities  \\\n",
       "0  Shape, shepherd, ship, and show technical prog...   \n",
       "1  Drive cross-functional activities in the suppl...   \n",
       "2  Collect and analyze data to draw insight and i...   \n",
       "3  Work one-on-one with the top Android, iOS, and...   \n",
       "4  Plan requirements with internal customers.\\nPr...   \n",
       "\n",
       "                              Minimum Qualifications  \\\n",
       "0  BA/BS degree or equivalent practical experienc...   \n",
       "1  BS degree in an Engineering discipline or equi...   \n",
       "2  Bachelor’s degree in Business, Economics, Stat...   \n",
       "3  BA/BS degree in Computer Science or equivalent...   \n",
       "4  BA/BS degree or equivalent practical experienc...   \n",
       "\n",
       "                            Preferred Qualifications  \n",
       "0  Experience in the business technology market a...  \n",
       "1  BSEE, BSME or BSIE degree.\\nExperience of usin...  \n",
       "2  Experience partnering or consulting cross-func...  \n",
       "3  Experience as a software developer, architect,...  \n",
       "4  CTS Certification.\\nExperience in the construc...  "
      ]
     },
     "execution_count": 1,
     "metadata": {},
     "output_type": "execute_result"
    }
   ],
   "source": [
    "import pandas as pd\n",
    "\n",
    "file = \"./data/job_skills.csv\"\n",
    "\n",
    "df = pd.read_csv(file)\n",
    "\n",
    "df.head()"
   ]
  },
  {
   "cell_type": "markdown",
   "metadata": {},
   "source": [
    "从天气数据样本中，我们可以看到数据的一些特征\n",
    "\n",
    "- **Company**：公司名字，这里绝大部分是Google\n",
    "- **Title**：工作头衔\n",
    "- **Category**：职位类别\n",
    "- **Location**：工作地点\n",
    "- **Responsibilities**: 职责\n",
    "- **Minimum Qualifications**：最低要求\n",
    "- **Preferred Qualifications**：加分项"
   ]
  },
  {
   "cell_type": "markdown",
   "metadata": {},
   "source": [
    "### 技能语言排名\n",
    "\n",
    "尝试在Minimum Qualifications中，查找各编程语言出现的次数。\n",
    "\n",
    "我们考察的语言包括python、java、c++、php、javascript、object-C、ruby、perl、c、c#、sql、swift、scala、r。"
   ]
  },
  {
   "cell_type": "code",
   "execution_count": 2,
   "metadata": {},
   "outputs": [
    {
     "name": "stdout",
     "output_type": "stream",
     "text": [
      "{'python': 83, 'java': 67, 'c++': 43, 'php': 5, 'javascript': 74, 'objective-c': 2, 'ruby': 14, 'perl': 6, 'c': 10, 'c#': 15, 'sql': 51, 'swift': 0, 'scala': 0, 'r': 24}\n"
     ]
    }
   ],
   "source": [
    "import re\n",
    "# 定义语言列表\n",
    "lang_list = ['python', 'java', 'c++', 'php', 'javascript', 'objective-c', \n",
    "             'ruby', 'perl', 'c', 'c#', 'sql', 'swift', 'scala', 'r']\n",
    "\n",
    "# 定义统计函数，输入字符串，从中提取包含的‘python’、'java'等语言单词的次数\n",
    "def lang_count(miniumum_qualifications_string, lang_dict):\n",
    "    '''该函数被以下all_lang_count调用，统计lang_dict中已经有的key在miniumum_qualifications_string中出现的次数。\n",
    "    \n",
    "       输入：\n",
    "           miniumum_qualifications_string：str类型，被查询的字符串（）\n",
    "    '''\n",
    "    # TODO\n",
    "    # 从miniumum_qualifications_string中提取单词（可以参考Python正则表达式文档： https://docs.python.org/3/library/re.html）\n",
    "    # 将如下re.sqlit中的第一个参数修改为正确的表达式 \n",
    "    for w in re.split(r\"[,.\\s]\", miniumum_qualifications_string):\n",
    "        # TODO\n",
    "        # 如果单词为lang_list中的某一种语言（注意单词大小写问题），将字典lang_dict对应项累加     \n",
    "        if (w.lower() in lang_dict):\n",
    "            lang_dict[w.lower()] += 1\n",
    "\n",
    "def all_lang_count(df):\n",
    "    '''统计Minimum Qualifications列的内容中，语言出现的次数\n",
    "    \n",
    "       输入：\n",
    "           df：DataFrame，其中包含Minimum Qualifications列。\n",
    "    \n",
    "       输出：\n",
    "           字典类型，其中key为语言名字如'python'、'java'等，value为单词在Minimum Qualifications中出现的次数。\n",
    "    '''\n",
    "    # TODO\n",
    "    # 初始化字典变量lang_dict, 以lang_list中的语言名字为key，出现次数为0\n",
    "    lang_dict = {i:0 for i in lang_list}\n",
    "\n",
    "    # 对于Minimum Qualifications列中的每一项，调用lang_count方法\n",
    "    for word in df['Minimum Qualifications']:\n",
    "        lang_count(str(word), lang_dict)\n",
    "    \n",
    "    return lang_dict\n",
    "\n",
    "lang_dict = all_lang_count(df)\n",
    "print(lang_dict)"
   ]
  },
  {
   "cell_type": "code",
   "execution_count": 3,
   "metadata": {},
   "outputs": [
    {
     "data": {
      "text/plain": [
       "<matplotlib.axes._subplots.AxesSubplot at 0x11ab845f8>"
      ]
     },
     "execution_count": 3,
     "metadata": {},
     "output_type": "execute_result"
    }
   ],
   "source": [
    "# TODO\n",
    "# 对lang_dict.items()按照value所对应项进行排序并生成到新的列表变量lang_sorted中\n",
    "lang_sorted = sorted(lang_dict.items(),key = lambda x:x[1],reverse = True)\n",
    "\n",
    "# 根据计算出的lang_sorted生成新的DataFrame\n",
    "df_lang_sorted = pd.DataFrame(lang_sorted, columns = ['Language', 'Pop'])\n",
    "\n",
    "# TODO\n",
    "# 将Language设置为df_lang_sorted的index以便绘图时作为横坐标标签\n",
    "df_lang_sorted.set_index('Language',inplace=True)\n",
    "\n",
    "# 绘制df_lang_sorted柱形图\n",
    "df_lang_sorted.plot.bar()"
   ]
  },
  {
   "cell_type": "markdown",
   "metadata": {},
   "source": [
    "从图形结果当中，我们可以看到，需求量排名前三的语言是哪些？\n",
    "\n",
    "** 回答：**\n",
    "python、javascript、java"
   ]
  },
  {
   "cell_type": "markdown",
   "metadata": {},
   "source": [
    "### 更仔细的探索数据\n",
    "\n",
    "对数据进行初步的统计得到以上结果，看起来比较惊喜。\n",
    "\n",
    "让我们仔细看看一些数据的细节。\n",
    "\n",
    "首先，检查下数据中包含多少空值。"
   ]
  },
  {
   "cell_type": "code",
   "execution_count": 4,
   "metadata": {},
   "outputs": [
    {
     "data": {
      "text/plain": [
       "Company                      0\n",
       "Title                        0\n",
       "Category                     0\n",
       "Location                     0\n",
       "Responsibilities            15\n",
       "Minimum Qualifications      14\n",
       "Preferred Qualifications    14\n",
       "dtype: int64"
      ]
     },
     "execution_count": 4,
     "metadata": {},
     "output_type": "execute_result"
    }
   ],
   "source": [
    "pd.isnull(df).sum()"
   ]
  },
  {
   "cell_type": "markdown",
   "metadata": {},
   "source": [
    "#### 去除空值项"
   ]
  },
  {
   "cell_type": "code",
   "execution_count": 5,
   "metadata": {},
   "outputs": [
    {
     "data": {
      "text/html": [
       "<div>\n",
       "<style scoped>\n",
       "    .dataframe tbody tr th:only-of-type {\n",
       "        vertical-align: middle;\n",
       "    }\n",
       "\n",
       "    .dataframe tbody tr th {\n",
       "        vertical-align: top;\n",
       "    }\n",
       "\n",
       "    .dataframe thead th {\n",
       "        text-align: right;\n",
       "    }\n",
       "</style>\n",
       "<table border=\"1\" class=\"dataframe\">\n",
       "  <thead>\n",
       "    <tr style=\"text-align: right;\">\n",
       "      <th></th>\n",
       "      <th>Company</th>\n",
       "      <th>Title</th>\n",
       "      <th>Category</th>\n",
       "      <th>Location</th>\n",
       "      <th>Responsibilities</th>\n",
       "      <th>Minimum Qualifications</th>\n",
       "      <th>Preferred Qualifications</th>\n",
       "    </tr>\n",
       "  </thead>\n",
       "  <tbody>\n",
       "    <tr>\n",
       "      <th>count</th>\n",
       "      <td>1235</td>\n",
       "      <td>1235</td>\n",
       "      <td>1235</td>\n",
       "      <td>1235</td>\n",
       "      <td>1235</td>\n",
       "      <td>1235</td>\n",
       "      <td>1235</td>\n",
       "    </tr>\n",
       "    <tr>\n",
       "      <th>unique</th>\n",
       "      <td>2</td>\n",
       "      <td>779</td>\n",
       "      <td>23</td>\n",
       "      <td>91</td>\n",
       "      <td>801</td>\n",
       "      <td>806</td>\n",
       "      <td>820</td>\n",
       "    </tr>\n",
       "    <tr>\n",
       "      <th>top</th>\n",
       "      <td>Google</td>\n",
       "      <td>Business Intern 2018</td>\n",
       "      <td>Sales &amp; Account Management</td>\n",
       "      <td>Mountain View, CA, United States</td>\n",
       "      <td>Responsibilities and detailed projects will be...</td>\n",
       "      <td>Currently enrolled in a Bachelor's or Master's...</td>\n",
       "      <td>Interest in the technology industry and Google...</td>\n",
       "    </tr>\n",
       "    <tr>\n",
       "      <th>freq</th>\n",
       "      <td>1212</td>\n",
       "      <td>35</td>\n",
       "      <td>168</td>\n",
       "      <td>187</td>\n",
       "      <td>33</td>\n",
       "      <td>32</td>\n",
       "      <td>32</td>\n",
       "    </tr>\n",
       "  </tbody>\n",
       "</table>\n",
       "</div>"
      ],
      "text/plain": [
       "       Company                 Title                    Category  \\\n",
       "count     1235                  1235                        1235   \n",
       "unique       2                   779                          23   \n",
       "top     Google  Business Intern 2018  Sales & Account Management   \n",
       "freq      1212                    35                         168   \n",
       "\n",
       "                                Location  \\\n",
       "count                               1235   \n",
       "unique                                91   \n",
       "top     Mountain View, CA, United States   \n",
       "freq                                 187   \n",
       "\n",
       "                                         Responsibilities  \\\n",
       "count                                                1235   \n",
       "unique                                                801   \n",
       "top     Responsibilities and detailed projects will be...   \n",
       "freq                                                   33   \n",
       "\n",
       "                                   Minimum Qualifications  \\\n",
       "count                                                1235   \n",
       "unique                                                806   \n",
       "top     Currently enrolled in a Bachelor's or Master's...   \n",
       "freq                                                   32   \n",
       "\n",
       "                                 Preferred Qualifications  \n",
       "count                                                1235  \n",
       "unique                                                820  \n",
       "top     Interest in the technology industry and Google...  \n",
       "freq                                                   32  "
      ]
     },
     "execution_count": 5,
     "metadata": {},
     "output_type": "execute_result"
    }
   ],
   "source": [
    "df = df.dropna()\n",
    "df.describe()"
   ]
  },
  {
   "cell_type": "markdown",
   "metadata": {},
   "source": [
    "#### 观察一下Company列\n",
    "\n",
    "在执行df.head结果之后，我们可以发现Company列中的unique为2，这里除了Google，还有另外一家公司。\n",
    "\n",
    "看看另一家是什么："
   ]
  },
  {
   "cell_type": "code",
   "execution_count": 6,
   "metadata": {},
   "outputs": [
    {
     "data": {
      "text/plain": [
       "Google     1212\n",
       "YouTube      23\n",
       "Name: Company, dtype: int64"
      ]
     },
     "execution_count": 6,
     "metadata": {},
     "output_type": "execute_result"
    }
   ],
   "source": [
    "df['Company'].value_counts()"
   ]
  },
  {
   "cell_type": "markdown",
   "metadata": {},
   "source": [
    "可以看到这里还有一家是YouTube，也是被Google收购了的金牌雇主。\n",
    "\n",
    "为了分析，先不管这么多，把YouTube相关的行数据去掉。"
   ]
  },
  {
   "cell_type": "code",
   "execution_count": 7,
   "metadata": {},
   "outputs": [
    {
     "data": {
      "text/html": [
       "<div>\n",
       "<style scoped>\n",
       "    .dataframe tbody tr th:only-of-type {\n",
       "        vertical-align: middle;\n",
       "    }\n",
       "\n",
       "    .dataframe tbody tr th {\n",
       "        vertical-align: top;\n",
       "    }\n",
       "\n",
       "    .dataframe thead th {\n",
       "        text-align: right;\n",
       "    }\n",
       "</style>\n",
       "<table border=\"1\" class=\"dataframe\">\n",
       "  <thead>\n",
       "    <tr style=\"text-align: right;\">\n",
       "      <th></th>\n",
       "      <th>Company</th>\n",
       "      <th>Title</th>\n",
       "      <th>Category</th>\n",
       "      <th>Location</th>\n",
       "      <th>Responsibilities</th>\n",
       "      <th>Minimum Qualifications</th>\n",
       "      <th>Preferred Qualifications</th>\n",
       "    </tr>\n",
       "  </thead>\n",
       "  <tbody>\n",
       "    <tr>\n",
       "      <th>count</th>\n",
       "      <td>1212</td>\n",
       "      <td>1212</td>\n",
       "      <td>1212</td>\n",
       "      <td>1212</td>\n",
       "      <td>1212</td>\n",
       "      <td>1212</td>\n",
       "      <td>1212</td>\n",
       "    </tr>\n",
       "    <tr>\n",
       "      <th>unique</th>\n",
       "      <td>1</td>\n",
       "      <td>761</td>\n",
       "      <td>23</td>\n",
       "      <td>91</td>\n",
       "      <td>784</td>\n",
       "      <td>788</td>\n",
       "      <td>802</td>\n",
       "    </tr>\n",
       "    <tr>\n",
       "      <th>top</th>\n",
       "      <td>Google</td>\n",
       "      <td>Business Intern 2018</td>\n",
       "      <td>Sales &amp; Account Management</td>\n",
       "      <td>Mountain View, CA, United States</td>\n",
       "      <td>Responsibilities and detailed projects will be...</td>\n",
       "      <td>Must be pursuing a full-time MBA program with ...</td>\n",
       "      <td>Previous internship experience in Sales, Adver...</td>\n",
       "    </tr>\n",
       "    <tr>\n",
       "      <th>freq</th>\n",
       "      <td>1212</td>\n",
       "      <td>35</td>\n",
       "      <td>167</td>\n",
       "      <td>187</td>\n",
       "      <td>33</td>\n",
       "      <td>32</td>\n",
       "      <td>32</td>\n",
       "    </tr>\n",
       "  </tbody>\n",
       "</table>\n",
       "</div>"
      ],
      "text/plain": [
       "       Company                 Title                    Category  \\\n",
       "count     1212                  1212                        1212   \n",
       "unique       1                   761                          23   \n",
       "top     Google  Business Intern 2018  Sales & Account Management   \n",
       "freq      1212                    35                         167   \n",
       "\n",
       "                                Location  \\\n",
       "count                               1212   \n",
       "unique                                91   \n",
       "top     Mountain View, CA, United States   \n",
       "freq                                 187   \n",
       "\n",
       "                                         Responsibilities  \\\n",
       "count                                                1212   \n",
       "unique                                                784   \n",
       "top     Responsibilities and detailed projects will be...   \n",
       "freq                                                   33   \n",
       "\n",
       "                                   Minimum Qualifications  \\\n",
       "count                                                1212   \n",
       "unique                                                788   \n",
       "top     Must be pursuing a full-time MBA program with ...   \n",
       "freq                                                   32   \n",
       "\n",
       "                                 Preferred Qualifications  \n",
       "count                                                1212  \n",
       "unique                                                802  \n",
       "top     Previous internship experience in Sales, Adver...  \n",
       "freq                                                   32  "
      ]
     },
     "execution_count": 7,
     "metadata": {},
     "output_type": "execute_result"
    }
   ],
   "source": [
    "# TODO\n",
    "# 去掉df中Company列为YouTube的数据\n",
    "df=df[~df['Company'].isin([\"YouTube\"])]\n",
    "\n",
    "df.describe()"
   ]
  },
  {
   "cell_type": "markdown",
   "metadata": {},
   "source": [
    "#### 观察其它列的大概状况"
   ]
  },
  {
   "cell_type": "code",
   "execution_count": 8,
   "metadata": {},
   "outputs": [
    {
     "data": {
      "text/plain": [
       "Business Intern 2018                                                         35\n",
       "MBA Intern, Summer 2018                                                      34\n",
       "MBA Intern 2018                                                              28\n",
       "BOLD Intern, Summer 2018                                                     21\n",
       "Field Sales Representative, Google Cloud                                     17\n",
       "Interaction Designer                                                         12\n",
       "User Experience Researcher                                                    9\n",
       "Partner Sales Engineer, Google Cloud                                          7\n",
       "Recruiter                                                                     7\n",
       "User Experience Design Intern, Summer 2018                                    7\n",
       "Deal Manager, Google Cloud                                                    6\n",
       "User Experience Research Intern, Summer 2018                                  6\n",
       "Partner Onboarding Manager (Americas)                                         6\n",
       "Field Sales Representative, Google Cloud (DACH)                               6\n",
       "Machine Learning Product Specialist, Google Cloud (EMEA)                      5\n",
       "Technical Writer, University Graduate                                         5\n",
       "Staffing Manager                                                              5\n",
       "People Consultant                                                             5\n",
       "Visual Designer                                                               5\n",
       "Partner Business Manager (DACH), System Integrator Partnerships (German)      5\n",
       "Solution Architect, Google Cloud Platform (Apigee)                            5\n",
       "Partner Development Manager, Google Cloud                                     5\n",
       "Staffing Channels Specialist                                                  5\n",
       "UX Design Manager                                                             5\n",
       "G Suite Strategic Cloud Engineer, Google Professional Services                5\n",
       "Product Specialist, Google Cloud (English)                                    4\n",
       "Product Analyst, Data Science                                                 4\n",
       "Business Intern 2018, Colombia                                                4\n",
       "Mobile UX Lead, Large Customer Sales (English, Mandarin)                      4\n",
       "Internal Communications Manager                                               4\n",
       "                                                                             ..\n",
       "Head of Field Marketing (North Asia), Google Cloud                            1\n",
       "Strategic Technology Partner Manager, Healthcare and Life Sciences            1\n",
       "Media Research Manager (English and Turkish speaker)                          1\n",
       "Business Intelligence and Analytics Manager, Finance                          1\n",
       "Operations Engineer                                                           1\n",
       "Project Manager, Staffing Services Operations                                 1\n",
       "Associate Account Strategist (Czech/Slovak), Global Customer Experience       1\n",
       "Associate Legal Counsel                                                       1\n",
       "Product Marketing Manager, Google Cloud Platform Monitoring, Google Cloud     1\n",
       "Global Partnerships Solutions Lead, News and Publishing                       1\n",
       "Delivery Manager, Optimization Support, EMEA                                  1\n",
       "Operations Support Associate (French), Legal Online Support                   1\n",
       "Data Analyst, Product Trust and Safety                                        1\n",
       "Leadership Staffing Researcher (EMEA)                                         1\n",
       "Trading Analyst, Foreign Exchange                                             1\n",
       "Data Analyst, Product and Tools Operations, Google Technical Services         1\n",
       "Vendor Strategy Manager, Google Technical Services                            1\n",
       "Team Lead, Online Support                                                     1\n",
       "UX Content Strategist Lead                                                    1\n",
       "Interaction Designer, Site Reliability - London                               1\n",
       "High-level Synthesis Design Engineer, Consumer Hardware                       1\n",
       "Global Supply Chain Manager, FPCB and PCB, Consumer Hardware                  1\n",
       "Customer Engineer, Google Cloud Platform (Portuguese and English)             1\n",
       "Associate Commercial Counsel                                                  1\n",
       "Product Specialist, Hardware                                                  1\n",
       "Supply Chain Procurement Operations Manager                                   1\n",
       "Operations Specialist, Google People Services (Japanese)                      1\n",
       "Application Engineer, Legal                                                   1\n",
       "Program Manager, Geo Data Operations                                          1\n",
       "Business Development Manager, Rich Communications Services (RCS)              1\n",
       "Name: Title, Length: 761, dtype: int64"
      ]
     },
     "execution_count": 8,
     "metadata": {},
     "output_type": "execute_result"
    }
   ],
   "source": [
    "# Title列\n",
    "df['Title'].value_counts()"
   ]
  },
  {
   "cell_type": "code",
   "execution_count": 9,
   "metadata": {},
   "outputs": [
    {
     "data": {
      "text/plain": [
       "Mountain View, CA, United States    187\n",
       "Sunnyvale, CA, United States        155\n",
       "Dublin, Ireland                      87\n",
       "New York, NY, United States          68\n",
       "London, United Kingdom               61\n",
       "San Francisco, CA, United States     49\n",
       "Singapore                            39\n",
       "Sydney, Australia                    31\n",
       "Tokyo, Japan                         31\n",
       "Seattle, WA, United States           27\n",
       "Shanghai, China                      27\n",
       "Xinyi District, Taiwan               24\n",
       "München, Germany                     23\n",
       "Zürich, Switzerland                  22\n",
       "Paris, France                        20\n",
       "Austin, TX, United States            17\n",
       "San Bruno, CA, United States         17\n",
       "Boulder, CO, United States           15\n",
       "Kirkland, WA, United States          14\n",
       "São Paulo, Brazil                    13\n",
       "Name: Location, dtype: int64"
      ]
     },
     "execution_count": 9,
     "metadata": {},
     "output_type": "execute_result"
    }
   ],
   "source": [
    "# TODO\n",
    "# 使用value_counts观察Location列的统计状况，注意，只列出前20项\n",
    "df['Location'].value_counts()[:20]"
   ]
  },
  {
   "cell_type": "code",
   "execution_count": 10,
   "metadata": {},
   "outputs": [
    {
     "data": {
      "text/plain": [
       "Sales & Account Management          167\n",
       "Marketing & Communications          161\n",
       "Finance                             112\n",
       "Technical Solutions                 100\n",
       "Business Strategy                    92\n",
       "People Operations                    86\n",
       "User Experience & Design             83\n",
       "Program Management                   72\n",
       "Partnerships                         58\n",
       "Product & Customer Support           48\n",
       "Legal & Government Relations         43\n",
       "Administrative                       39\n",
       "Sales Operations                     31\n",
       "Software Engineering                 24\n",
       "Real Estate & Workplace Services     24\n",
       "Hardware Engineering                 22\n",
       "Manufacturing & Supply Chain         16\n",
       "Technical Infrastructure             11\n",
       "Network Engineering                   6\n",
       "IT & Data Management                  5\n",
       "Name: Category, dtype: int64"
      ]
     },
     "execution_count": 10,
     "metadata": {},
     "output_type": "execute_result"
    }
   ],
   "source": [
    "# TODO\n",
    "# 使用value_counts观察Category列的统计状况，注意，只列出前20项\n",
    "df['Category'].value_counts()[:20]"
   ]
  },
  {
   "cell_type": "markdown",
   "metadata": {},
   "source": [
    "### 工作年限\n",
    "\n",
    "#### 粗略计算"
   ]
  },
  {
   "cell_type": "code",
   "execution_count": 11,
   "metadata": {},
   "outputs": [
    {
     "name": "stdout",
     "output_type": "stream",
     "text": [
      "{'3': 111, '7': 41, '2': 60, '1': 16, '4': 91, '10': 75, '5': 174, '12': 18, '8': 62, '6': 56, '9': 8, '15': 4, '13': 1, '11': 1, '14': 1}\n"
     ]
    }
   ],
   "source": [
    "from collections import defaultdict\n",
    "\n",
    "# 使用defaultdict构建value默认值为0的字典\n",
    "years_exp = defaultdict(lambda: 0)\n",
    "\n",
    "# 定义统计函数，输入字符串，从中提取包含的xxx year字样的情况下期中xxx所描述的数字\n",
    "def compute_years_exp(miniumum_qualifications_string):\n",
    "    # 从miniumum_qualifications_string中提取xxx year中的xxx（可以参考Python正则表达式文档： https://docs.python.org/3/library/re.html）\n",
    "    # 然后以年数（xxx）为key，将years_exp中的相应元素value加1。\n",
    "    for w in re.findall(r'([0-9]+) year', miniumum_qualifications_string):\n",
    "        years_exp[w] += 1\n",
    "        \n",
    "# 对于Minimum Qualifications列中的每一项，调用lang_count方法\n",
    "for word in df['Minimum Qualifications']:\n",
    "    compute_years_exp(str(word))\n",
    "    \n",
    "print(dict(years_exp))\n"
   ]
  },
  {
   "cell_type": "code",
   "execution_count": 12,
   "metadata": {},
   "outputs": [
    {
     "data": {
      "text/plain": [
       "<matplotlib.axes._subplots.AxesSubplot at 0x11af53588>"
      ]
     },
     "execution_count": 12,
     "metadata": {},
     "output_type": "execute_result"
    },
    {
     "data": {
      "image/png": "[encoded data removed]",
      "text/plain": [
       "<Figure size 432x288 with 1 Axes>"
      ]
     },
     "metadata": {
      "needs_background": "light"
     },
     "output_type": "display_data"
    }
   ],
   "source": [
    "# TODO\n",
    "# 对dict(years_exp)按照value进行排序并生成到新的列表变量years_exp_sorted中\n",
    "years_exp_sorted = sorted(dict(years_exp).items(),key = lambda x:x[1],reverse=True)\n",
    "\n",
    "# TODO\n",
    "# 根据计算出的years_exp_sorted生成新的DataFrame，列名为Years以及Pop\n",
    "df_years_exp_sorted = pd.DataFrame(years_exp_sorted,columns=[\"Years\",\"Pop\"])\n",
    "\n",
    "# TODO\n",
    "# 将Years设置为df_years_exp_sorted的index以便绘图时作为横坐标标签\n",
    "df_years_exp_sorted.set_index(\"Years\",inplace=True)\n",
    "\n",
    "# 绘制df_years_exp_sorted柱形图\n",
    "df_years_exp_sorted.plot.bar()\n"
   ]
  },
  {
   "cell_type": "markdown",
   "metadata": {},
   "source": [
    "从图形结果当中，我们可以看到，需求量排名前二的工作经验年限是什么？\n",
    "\n",
    "** 回答：**\n",
    "5年和3年"
   ]
  },
  {
   "cell_type": "markdown",
   "metadata": {},
   "source": [
    "#### 逐行处理\n",
    "\n",
    "针对每一行，生成一个新列Minimum_years_experience，从当前行的Minimum Qualifications列中，提取xxx year 字样前面的xxx"
   ]
  },
  {
   "cell_type": "code",
   "execution_count": 13,
   "metadata": {},
   "outputs": [
    {
     "data": {
      "text/html": [
       "<div>\n",
       "<style scoped>\n",
       "    .dataframe tbody tr th:only-of-type {\n",
       "        vertical-align: middle;\n",
       "    }\n",
       "\n",
       "    .dataframe tbody tr th {\n",
       "        vertical-align: top;\n",
       "    }\n",
       "\n",
       "    .dataframe thead th {\n",
       "        text-align: right;\n",
       "    }\n",
       "</style>\n",
       "<table border=\"1\" class=\"dataframe\">\n",
       "  <thead>\n",
       "    <tr style=\"text-align: right;\">\n",
       "      <th></th>\n",
       "      <th>Company</th>\n",
       "      <th>Title</th>\n",
       "      <th>Category</th>\n",
       "      <th>Location</th>\n",
       "      <th>Responsibilities</th>\n",
       "      <th>Minimum Qualifications</th>\n",
       "      <th>Preferred Qualifications</th>\n",
       "      <th>Minimum_years_experience</th>\n",
       "    </tr>\n",
       "  </thead>\n",
       "  <tbody>\n",
       "    <tr>\n",
       "      <th>0</th>\n",
       "      <td>Google</td>\n",
       "      <td>Google Cloud Program Manager</td>\n",
       "      <td>Program Management</td>\n",
       "      <td>Singapore</td>\n",
       "      <td>Shape, shepherd, ship, and show technical prog...</td>\n",
       "      <td>BA/BS degree or equivalent practical experienc...</td>\n",
       "      <td>Experience in the business technology market a...</td>\n",
       "      <td>[3]</td>\n",
       "    </tr>\n",
       "    <tr>\n",
       "      <th>1</th>\n",
       "      <td>Google</td>\n",
       "      <td>Supplier Development Engineer (SDE), Cable/Con...</td>\n",
       "      <td>Manufacturing &amp; Supply Chain</td>\n",
       "      <td>Shanghai, China</td>\n",
       "      <td>Drive cross-functional activities in the suppl...</td>\n",
       "      <td>BS degree in an Engineering discipline or equi...</td>\n",
       "      <td>BSEE, BSME or BSIE degree.\\nExperience of usin...</td>\n",
       "      <td>[7]</td>\n",
       "    </tr>\n",
       "    <tr>\n",
       "      <th>2</th>\n",
       "      <td>Google</td>\n",
       "      <td>Data Analyst, Product and Tools Operations, Go...</td>\n",
       "      <td>Technical Solutions</td>\n",
       "      <td>New York, NY, United States</td>\n",
       "      <td>Collect and analyze data to draw insight and i...</td>\n",
       "      <td>Bachelor’s degree in Business, Economics, Stat...</td>\n",
       "      <td>Experience partnering or consulting cross-func...</td>\n",
       "      <td>[2, 1, 1]</td>\n",
       "    </tr>\n",
       "    <tr>\n",
       "      <th>3</th>\n",
       "      <td>Google</td>\n",
       "      <td>Developer Advocate, Partner Engineering</td>\n",
       "      <td>Developer Relations</td>\n",
       "      <td>Mountain View, CA, United States</td>\n",
       "      <td>Work one-on-one with the top Android, iOS, and...</td>\n",
       "      <td>BA/BS degree in Computer Science or equivalent...</td>\n",
       "      <td>Experience as a software developer, architect,...</td>\n",
       "      <td>[]</td>\n",
       "    </tr>\n",
       "    <tr>\n",
       "      <th>4</th>\n",
       "      <td>Google</td>\n",
       "      <td>Program Manager, Audio Visual (AV) Deployments</td>\n",
       "      <td>Program Management</td>\n",
       "      <td>Sunnyvale, CA, United States</td>\n",
       "      <td>Plan requirements with internal customers.\\nPr...</td>\n",
       "      <td>BA/BS degree or equivalent practical experienc...</td>\n",
       "      <td>CTS Certification.\\nExperience in the construc...</td>\n",
       "      <td>[4]</td>\n",
       "    </tr>\n",
       "  </tbody>\n",
       "</table>\n",
       "</div>"
      ],
      "text/plain": [
       "  Company                                              Title  \\\n",
       "0  Google                       Google Cloud Program Manager   \n",
       "1  Google  Supplier Development Engineer (SDE), Cable/Con...   \n",
       "2  Google  Data Analyst, Product and Tools Operations, Go...   \n",
       "3  Google            Developer Advocate, Partner Engineering   \n",
       "4  Google     Program Manager, Audio Visual (AV) Deployments   \n",
       "\n",
       "                       Category                          Location  \\\n",
       "0            Program Management                         Singapore   \n",
       "1  Manufacturing & Supply Chain                   Shanghai, China   \n",
       "2           Technical Solutions       New York, NY, United States   \n",
       "3           Developer Relations  Mountain View, CA, United States   \n",
       "4            Program Management      Sunnyvale, CA, United States   \n",
       "\n",
       "                                    Responsibilities  \\\n",
       "0  Shape, shepherd, ship, and show technical prog...   \n",
       "1  Drive cross-functional activities in the suppl...   \n",
       "2  Collect and analyze data to draw insight and i...   \n",
       "3  Work one-on-one with the top Android, iOS, and...   \n",
       "4  Plan requirements with internal customers.\\nPr...   \n",
       "\n",
       "                              Minimum Qualifications  \\\n",
       "0  BA/BS degree or equivalent practical experienc...   \n",
       "1  BS degree in an Engineering discipline or equi...   \n",
       "2  Bachelor’s degree in Business, Economics, Stat...   \n",
       "3  BA/BS degree in Computer Science or equivalent...   \n",
       "4  BA/BS degree or equivalent practical experienc...   \n",
       "\n",
       "                            Preferred Qualifications Minimum_years_experience  \n",
       "0  Experience in the business technology market a...                      [3]  \n",
       "1  BSEE, BSME or BSIE degree.\\nExperience of usin...                      [7]  \n",
       "2  Experience partnering or consulting cross-func...                [2, 1, 1]  \n",
       "3  Experience as a software developer, architect,...                       []  \n",
       "4  CTS Certification.\\nExperience in the construc...                      [4]  "
      ]
     },
     "execution_count": 13,
     "metadata": {},
     "output_type": "execute_result"
    }
   ],
   "source": [
    "# TODO\n",
    "# 生成df['Minimum_years_experience']，每行元素为对应行的Minimum Qualifications这列中xxx year 字样前面的xxx。\n",
    "# df['Minimum_years_experience']每个元素的类型为列表\n",
    "df['Minimum_years_experience'] = [re.findall(r'([0-9]+) year',str(word)) for word in df['Minimum Qualifications']]\n",
    "\n",
    "df.head()"
   ]
  },
  {
   "cell_type": "markdown",
   "metadata": {},
   "source": [
    "从结果中，我们可以看出，某些行会提取出多个数字，某些行却一个数字也提取不出来，需要做进一步处理。"
   ]
  },
  {
   "cell_type": "markdown",
   "metadata": {},
   "source": [
    "#### 空值填充\n",
    "\n",
    "将df['Minimum_years_experience']中的[]转换成[0]"
   ]
  },
  {
   "cell_type": "code",
   "execution_count": 14,
   "metadata": {},
   "outputs": [
    {
     "data": {
      "text/html": [
       "<div>\n",
       "<style scoped>\n",
       "    .dataframe tbody tr th:only-of-type {\n",
       "        vertical-align: middle;\n",
       "    }\n",
       "\n",
       "    .dataframe tbody tr th {\n",
       "        vertical-align: top;\n",
       "    }\n",
       "\n",
       "    .dataframe thead th {\n",
       "        text-align: right;\n",
       "    }\n",
       "</style>\n",
       "<table border=\"1\" class=\"dataframe\">\n",
       "  <thead>\n",
       "    <tr style=\"text-align: right;\">\n",
       "      <th></th>\n",
       "      <th>Company</th>\n",
       "      <th>Title</th>\n",
       "      <th>Category</th>\n",
       "      <th>Location</th>\n",
       "      <th>Responsibilities</th>\n",
       "      <th>Minimum Qualifications</th>\n",
       "      <th>Preferred Qualifications</th>\n",
       "      <th>Minimum_years_experience</th>\n",
       "    </tr>\n",
       "  </thead>\n",
       "  <tbody>\n",
       "    <tr>\n",
       "      <th>0</th>\n",
       "      <td>Google</td>\n",
       "      <td>Google Cloud Program Manager</td>\n",
       "      <td>Program Management</td>\n",
       "      <td>Singapore</td>\n",
       "      <td>Shape, shepherd, ship, and show technical prog...</td>\n",
       "      <td>BA/BS degree or equivalent practical experienc...</td>\n",
       "      <td>Experience in the business technology market a...</td>\n",
       "      <td>[3]</td>\n",
       "    </tr>\n",
       "    <tr>\n",
       "      <th>1</th>\n",
       "      <td>Google</td>\n",
       "      <td>Supplier Development Engineer (SDE), Cable/Con...</td>\n",
       "      <td>Manufacturing &amp; Supply Chain</td>\n",
       "      <td>Shanghai, China</td>\n",
       "      <td>Drive cross-functional activities in the suppl...</td>\n",
       "      <td>BS degree in an Engineering discipline or equi...</td>\n",
       "      <td>BSEE, BSME or BSIE degree.\\nExperience of usin...</td>\n",
       "      <td>[7]</td>\n",
       "    </tr>\n",
       "    <tr>\n",
       "      <th>2</th>\n",
       "      <td>Google</td>\n",
       "      <td>Data Analyst, Product and Tools Operations, Go...</td>\n",
       "      <td>Technical Solutions</td>\n",
       "      <td>New York, NY, United States</td>\n",
       "      <td>Collect and analyze data to draw insight and i...</td>\n",
       "      <td>Bachelor’s degree in Business, Economics, Stat...</td>\n",
       "      <td>Experience partnering or consulting cross-func...</td>\n",
       "      <td>[2, 1, 1]</td>\n",
       "    </tr>\n",
       "    <tr>\n",
       "      <th>3</th>\n",
       "      <td>Google</td>\n",
       "      <td>Developer Advocate, Partner Engineering</td>\n",
       "      <td>Developer Relations</td>\n",
       "      <td>Mountain View, CA, United States</td>\n",
       "      <td>Work one-on-one with the top Android, iOS, and...</td>\n",
       "      <td>BA/BS degree in Computer Science or equivalent...</td>\n",
       "      <td>Experience as a software developer, architect,...</td>\n",
       "      <td>[0]</td>\n",
       "    </tr>\n",
       "    <tr>\n",
       "      <th>4</th>\n",
       "      <td>Google</td>\n",
       "      <td>Program Manager, Audio Visual (AV) Deployments</td>\n",
       "      <td>Program Management</td>\n",
       "      <td>Sunnyvale, CA, United States</td>\n",
       "      <td>Plan requirements with internal customers.\\nPr...</td>\n",
       "      <td>BA/BS degree or equivalent practical experienc...</td>\n",
       "      <td>CTS Certification.\\nExperience in the construc...</td>\n",
       "      <td>[4]</td>\n",
       "    </tr>\n",
       "  </tbody>\n",
       "</table>\n",
       "</div>"
      ],
      "text/plain": [
       "  Company                                              Title  \\\n",
       "0  Google                       Google Cloud Program Manager   \n",
       "1  Google  Supplier Development Engineer (SDE), Cable/Con...   \n",
       "2  Google  Data Analyst, Product and Tools Operations, Go...   \n",
       "3  Google            Developer Advocate, Partner Engineering   \n",
       "4  Google     Program Manager, Audio Visual (AV) Deployments   \n",
       "\n",
       "                       Category                          Location  \\\n",
       "0            Program Management                         Singapore   \n",
       "1  Manufacturing & Supply Chain                   Shanghai, China   \n",
       "2           Technical Solutions       New York, NY, United States   \n",
       "3           Developer Relations  Mountain View, CA, United States   \n",
       "4            Program Management      Sunnyvale, CA, United States   \n",
       "\n",
       "                                    Responsibilities  \\\n",
       "0  Shape, shepherd, ship, and show technical prog...   \n",
       "1  Drive cross-functional activities in the suppl...   \n",
       "2  Collect and analyze data to draw insight and i...   \n",
       "3  Work one-on-one with the top Android, iOS, and...   \n",
       "4  Plan requirements with internal customers.\\nPr...   \n",
       "\n",
       "                              Minimum Qualifications  \\\n",
       "0  BA/BS degree or equivalent practical experienc...   \n",
       "1  BS degree in an Engineering discipline or equi...   \n",
       "2  Bachelor’s degree in Business, Economics, Stat...   \n",
       "3  BA/BS degree in Computer Science or equivalent...   \n",
       "4  BA/BS degree or equivalent practical experienc...   \n",
       "\n",
       "                            Preferred Qualifications Minimum_years_experience  \n",
       "0  Experience in the business technology market a...                      [3]  \n",
       "1  BSEE, BSME or BSIE degree.\\nExperience of usin...                      [7]  \n",
       "2  Experience partnering or consulting cross-func...                [2, 1, 1]  \n",
       "3  Experience as a software developer, architect,...                      [0]  \n",
       "4  CTS Certification.\\nExperience in the construc...                      [4]  "
      ]
     },
     "execution_count": 14,
     "metadata": {},
     "output_type": "execute_result"
    }
   ],
   "source": [
    "# TODO\n",
    "# 将df['Minimum_years_experience']中的[]转换成[0]，（提示：可以使用apply）\n",
    "df['Minimum_years_experience'] = df['Minimum_years_experience'].apply(lambda year:[0] if len(year)==0 else year)\n",
    "\n",
    "\n",
    "df.head()"
   ]
  },
  {
   "cell_type": "markdown",
   "metadata": {},
   "source": [
    "#### 处理多值\n",
    "\n",
    "当df['Minimum_years_experience']中出现多个元素时，比如[x, y, z]，将df['Minimum_years_experience']转换成[max(x, y, z)]"
   ]
  },
  {
   "cell_type": "code",
   "execution_count": 15,
   "metadata": {
    "scrolled": true
   },
   "outputs": [
    {
     "data": {
      "text/html": [
       "<div>\n",
       "<style scoped>\n",
       "    .dataframe tbody tr th:only-of-type {\n",
       "        vertical-align: middle;\n",
       "    }\n",
       "\n",
       "    .dataframe tbody tr th {\n",
       "        vertical-align: top;\n",
       "    }\n",
       "\n",
       "    .dataframe thead th {\n",
       "        text-align: right;\n",
       "    }\n",
       "</style>\n",
       "<table border=\"1\" class=\"dataframe\">\n",
       "  <thead>\n",
       "    <tr style=\"text-align: right;\">\n",
       "      <th></th>\n",
       "      <th>Company</th>\n",
       "      <th>Title</th>\n",
       "      <th>Category</th>\n",
       "      <th>Location</th>\n",
       "      <th>Responsibilities</th>\n",
       "      <th>Minimum Qualifications</th>\n",
       "      <th>Preferred Qualifications</th>\n",
       "      <th>Minimum_years_experience</th>\n",
       "    </tr>\n",
       "  </thead>\n",
       "  <tbody>\n",
       "    <tr>\n",
       "      <th>0</th>\n",
       "      <td>Google</td>\n",
       "      <td>Google Cloud Program Manager</td>\n",
       "      <td>Program Management</td>\n",
       "      <td>Singapore</td>\n",
       "      <td>Shape, shepherd, ship, and show technical prog...</td>\n",
       "      <td>BA/BS degree or equivalent practical experienc...</td>\n",
       "      <td>Experience in the business technology market a...</td>\n",
       "      <td>[3]</td>\n",
       "    </tr>\n",
       "    <tr>\n",
       "      <th>1</th>\n",
       "      <td>Google</td>\n",
       "      <td>Supplier Development Engineer (SDE), Cable/Con...</td>\n",
       "      <td>Manufacturing &amp; Supply Chain</td>\n",
       "      <td>Shanghai, China</td>\n",
       "      <td>Drive cross-functional activities in the suppl...</td>\n",
       "      <td>BS degree in an Engineering discipline or equi...</td>\n",
       "      <td>BSEE, BSME or BSIE degree.\\nExperience of usin...</td>\n",
       "      <td>[7]</td>\n",
       "    </tr>\n",
       "    <tr>\n",
       "      <th>2</th>\n",
       "      <td>Google</td>\n",
       "      <td>Data Analyst, Product and Tools Operations, Go...</td>\n",
       "      <td>Technical Solutions</td>\n",
       "      <td>New York, NY, United States</td>\n",
       "      <td>Collect and analyze data to draw insight and i...</td>\n",
       "      <td>Bachelor’s degree in Business, Economics, Stat...</td>\n",
       "      <td>Experience partnering or consulting cross-func...</td>\n",
       "      <td>[2]</td>\n",
       "    </tr>\n",
       "    <tr>\n",
       "      <th>3</th>\n",
       "      <td>Google</td>\n",
       "      <td>Developer Advocate, Partner Engineering</td>\n",
       "      <td>Developer Relations</td>\n",
       "      <td>Mountain View, CA, United States</td>\n",
       "      <td>Work one-on-one with the top Android, iOS, and...</td>\n",
       "      <td>BA/BS degree in Computer Science or equivalent...</td>\n",
       "      <td>Experience as a software developer, architect,...</td>\n",
       "      <td>[0]</td>\n",
       "    </tr>\n",
       "    <tr>\n",
       "      <th>4</th>\n",
       "      <td>Google</td>\n",
       "      <td>Program Manager, Audio Visual (AV) Deployments</td>\n",
       "      <td>Program Management</td>\n",
       "      <td>Sunnyvale, CA, United States</td>\n",
       "      <td>Plan requirements with internal customers.\\nPr...</td>\n",
       "      <td>BA/BS degree or equivalent practical experienc...</td>\n",
       "      <td>CTS Certification.\\nExperience in the construc...</td>\n",
       "      <td>[4]</td>\n",
       "    </tr>\n",
       "  </tbody>\n",
       "</table>\n",
       "</div>"
      ],
      "text/plain": [
       "  Company                                              Title  \\\n",
       "0  Google                       Google Cloud Program Manager   \n",
       "1  Google  Supplier Development Engineer (SDE), Cable/Con...   \n",
       "2  Google  Data Analyst, Product and Tools Operations, Go...   \n",
       "3  Google            Developer Advocate, Partner Engineering   \n",
       "4  Google     Program Manager, Audio Visual (AV) Deployments   \n",
       "\n",
       "                       Category                          Location  \\\n",
       "0            Program Management                         Singapore   \n",
       "1  Manufacturing & Supply Chain                   Shanghai, China   \n",
       "2           Technical Solutions       New York, NY, United States   \n",
       "3           Developer Relations  Mountain View, CA, United States   \n",
       "4            Program Management      Sunnyvale, CA, United States   \n",
       "\n",
       "                                    Responsibilities  \\\n",
       "0  Shape, shepherd, ship, and show technical prog...   \n",
       "1  Drive cross-functional activities in the suppl...   \n",
       "2  Collect and analyze data to draw insight and i...   \n",
       "3  Work one-on-one with the top Android, iOS, and...   \n",
       "4  Plan requirements with internal customers.\\nPr...   \n",
       "\n",
       "                              Minimum Qualifications  \\\n",
       "0  BA/BS degree or equivalent practical experienc...   \n",
       "1  BS degree in an Engineering discipline or equi...   \n",
       "2  Bachelor’s degree in Business, Economics, Stat...   \n",
       "3  BA/BS degree in Computer Science or equivalent...   \n",
       "4  BA/BS degree or equivalent practical experienc...   \n",
       "\n",
       "                            Preferred Qualifications Minimum_years_experience  \n",
       "0  Experience in the business technology market a...                      [3]  \n",
       "1  BSEE, BSME or BSIE degree.\\nExperience of usin...                      [7]  \n",
       "2  Experience partnering or consulting cross-func...                      [2]  \n",
       "3  Experience as a software developer, architect,...                      [0]  \n",
       "4  CTS Certification.\\nExperience in the construc...                      [4]  "
      ]
     },
     "execution_count": 15,
     "metadata": {},
     "output_type": "execute_result"
    }
   ],
   "source": [
    "# TODO\n",
    "# 当df['Minimum_years_experience']中出现多个元素时，比如[x, y, z]，将df['Minimum_years_experience']转换成[max(x, y, z)]\n",
    "df['Minimum_years_experience'] = df['Minimum_years_experience'].apply(lambda num: [max(num)] if len(num)>1 else num)\n",
    "\n",
    "df.head()"
   ]
  },
  {
   "cell_type": "code",
   "execution_count": 16,
   "metadata": {},
   "outputs": [
    {
     "data": {
      "text/plain": [
       "<matplotlib.axes._subplots.AxesSubplot at 0x11b073898>"
      ]
     },
     "execution_count": 16,
     "metadata": {},
     "output_type": "execute_result"
    },
    {
     "data": {
      "image/png": "[encoded data removed]",
      "text/plain": [
       "<Figure size 432x288 with 1 Axes>"
      ]
     },
     "metadata": {
      "needs_background": "light"
     },
     "output_type": "display_data"
    }
   ],
   "source": [
    "# TODO\n",
    "# 基于df['Minimum_years_experience']数据，绘制箱线图。\n",
    "# 注意：如果元素类型非数值类型，绘制箱线图会失败，需要使用astype对元素类型进行转换。\n",
    "df['Minimum_years_experience'] = df['Minimum_years_experience'].apply(lambda mye: pd.Series(mye)).astype(int)\n",
    "\n",
    "df['Minimum_years_experience'].plot.box()"
   ]
  },
  {
   "cell_type": "markdown",
   "metadata": {},
   "source": [
    "从箱线图结果看，需求的工作年限的中位数是多少？\n",
    "\n",
    "** 回答：**\n",
    "中位数是2"
   ]
  },
  {
   "cell_type": "markdown",
   "metadata": {},
   "source": [
    "### 查看分析师岗位相关数据\n",
    "\n",
    "我们从Title中查找包含'Analyst'关键字的职位需求。"
   ]
  },
  {
   "cell_type": "code",
   "execution_count": 17,
   "metadata": {},
   "outputs": [
    {
     "data": {
      "text/html": [
       "<div>\n",
       "<style scoped>\n",
       "    .dataframe tbody tr th:only-of-type {\n",
       "        vertical-align: middle;\n",
       "    }\n",
       "\n",
       "    .dataframe tbody tr th {\n",
       "        vertical-align: top;\n",
       "    }\n",
       "\n",
       "    .dataframe thead th {\n",
       "        text-align: right;\n",
       "    }\n",
       "</style>\n",
       "<table border=\"1\" class=\"dataframe\">\n",
       "  <thead>\n",
       "    <tr style=\"text-align: right;\">\n",
       "      <th></th>\n",
       "      <th>Company</th>\n",
       "      <th>Title</th>\n",
       "      <th>Category</th>\n",
       "      <th>Location</th>\n",
       "      <th>Responsibilities</th>\n",
       "      <th>Minimum Qualifications</th>\n",
       "      <th>Preferred Qualifications</th>\n",
       "      <th>Minimum_years_experience</th>\n",
       "    </tr>\n",
       "  </thead>\n",
       "  <tbody>\n",
       "    <tr>\n",
       "      <th>2</th>\n",
       "      <td>Google</td>\n",
       "      <td>Data Analyst, Product and Tools Operations, Go...</td>\n",
       "      <td>Technical Solutions</td>\n",
       "      <td>New York, NY, United States</td>\n",
       "      <td>Collect and analyze data to draw insight and i...</td>\n",
       "      <td>Bachelor’s degree in Business, Economics, Stat...</td>\n",
       "      <td>Experience partnering or consulting cross-func...</td>\n",
       "      <td>2</td>\n",
       "    </tr>\n",
       "    <tr>\n",
       "      <th>10</th>\n",
       "      <td>Google</td>\n",
       "      <td>Data Analyst, Consumer Hardware</td>\n",
       "      <td>Product &amp; Customer Support</td>\n",
       "      <td>Mountain View, CA, United States</td>\n",
       "      <td>Build and maintain the Support Operations Anal...</td>\n",
       "      <td>BA/BS degree in Computer Science, Engineering,...</td>\n",
       "      <td>Experience in designing and executing structur...</td>\n",
       "      <td>4</td>\n",
       "    </tr>\n",
       "    <tr>\n",
       "      <th>20</th>\n",
       "      <td>Google</td>\n",
       "      <td>Quantitative Analyst, Ads Quality</td>\n",
       "      <td>Product &amp; Customer Support</td>\n",
       "      <td>Zürich, Switzerland</td>\n",
       "      <td>Apply advanced statistical methods and work wi...</td>\n",
       "      <td>PhD in Statistics or Econometrics or a related...</td>\n",
       "      <td>Relevant industry or research experience.\\nFam...</td>\n",
       "      <td>0</td>\n",
       "    </tr>\n",
       "    <tr>\n",
       "      <th>85</th>\n",
       "      <td>Google</td>\n",
       "      <td>Quantitative Analyst Lead, Trust and Safety</td>\n",
       "      <td>Product &amp; Customer Support</td>\n",
       "      <td>Zürich, Switzerland</td>\n",
       "      <td>Partner with cross-functional stakeholders to ...</td>\n",
       "      <td>PhD degree in Statistics, Econometrics, relate...</td>\n",
       "      <td>Relevant and extensive PhD research or work ex...</td>\n",
       "      <td>0</td>\n",
       "    </tr>\n",
       "    <tr>\n",
       "      <th>182</th>\n",
       "      <td>Google</td>\n",
       "      <td>Quantitative Analyst, Trust and Safety</td>\n",
       "      <td>Product &amp; Customer Support</td>\n",
       "      <td>Zürich, Switzerland</td>\n",
       "      <td>Work with data sets and solve non-routine anal...</td>\n",
       "      <td>Master's degree in a quantitative discipline o...</td>\n",
       "      <td>PhD in a quantitative discipline.\\nExperience ...</td>\n",
       "      <td>0</td>\n",
       "    </tr>\n",
       "  </tbody>\n",
       "</table>\n",
       "</div>"
      ],
      "text/plain": [
       "    Company                                              Title  \\\n",
       "2    Google  Data Analyst, Product and Tools Operations, Go...   \n",
       "10   Google                    Data Analyst, Consumer Hardware   \n",
       "20   Google                  Quantitative Analyst, Ads Quality   \n",
       "85   Google        Quantitative Analyst Lead, Trust and Safety   \n",
       "182  Google             Quantitative Analyst, Trust and Safety   \n",
       "\n",
       "                       Category                          Location  \\\n",
       "2           Technical Solutions       New York, NY, United States   \n",
       "10   Product & Customer Support  Mountain View, CA, United States   \n",
       "20   Product & Customer Support               Zürich, Switzerland   \n",
       "85   Product & Customer Support               Zürich, Switzerland   \n",
       "182  Product & Customer Support               Zürich, Switzerland   \n",
       "\n",
       "                                      Responsibilities  \\\n",
       "2    Collect and analyze data to draw insight and i...   \n",
       "10   Build and maintain the Support Operations Anal...   \n",
       "20   Apply advanced statistical methods and work wi...   \n",
       "85   Partner with cross-functional stakeholders to ...   \n",
       "182  Work with data sets and solve non-routine anal...   \n",
       "\n",
       "                                Minimum Qualifications  \\\n",
       "2    Bachelor’s degree in Business, Economics, Stat...   \n",
       "10   BA/BS degree in Computer Science, Engineering,...   \n",
       "20   PhD in Statistics or Econometrics or a related...   \n",
       "85   PhD degree in Statistics, Econometrics, relate...   \n",
       "182  Master's degree in a quantitative discipline o...   \n",
       "\n",
       "                              Preferred Qualifications  \\\n",
       "2    Experience partnering or consulting cross-func...   \n",
       "10   Experience in designing and executing structur...   \n",
       "20   Relevant industry or research experience.\\nFam...   \n",
       "85   Relevant and extensive PhD research or work ex...   \n",
       "182  PhD in a quantitative discipline.\\nExperience ...   \n",
       "\n",
       "     Minimum_years_experience  \n",
       "2                           2  \n",
       "10                          4  \n",
       "20                          0  \n",
       "85                          0  \n",
       "182                         0  "
      ]
     },
     "execution_count": 17,
     "metadata": {},
     "output_type": "execute_result"
    }
   ],
   "source": [
    "# TODO\n",
    "# 从Title中查找包含'Analyst'关键字的职位，存储到df_Analyst中。\n",
    "df_Analyst = df[df[\"Title\"].apply(lambda x:True if re.match(r\".*Analyst.*\",x) else False)]\n",
    "\n",
    "df_Analyst.head()"
   ]
  },
  {
   "cell_type": "code",
   "execution_count": 18,
   "metadata": {},
   "outputs": [
    {
     "data": {
      "text/plain": [
       "Mountain View, CA, United States    18\n",
       "Sunnyvale, CA, United States        16\n",
       "Zürich, Switzerland                  6\n",
       "Dublin, Ireland                      5\n",
       "London, United Kingdom               4\n",
       "New York, NY, United States          2\n",
       "San Bruno, CA, United States         2\n",
       "Tel Aviv-Yafo, Israel                1\n",
       "Singapore                            1\n",
       "Kirkland, WA, United States          1\n",
       "Tokyo, Japan                         1\n",
       "Seattle, WA, United States           1\n",
       "Hamburg, Germany                     1\n",
       "Beijing, China                       1\n",
       "Hyderabad, India                     1\n",
       "Paris, France                        1\n",
       "Name: Location, dtype: int64"
      ]
     },
     "execution_count": 18,
     "metadata": {},
     "output_type": "execute_result"
    }
   ],
   "source": [
    "# 查看下分析师需求的位置分布情况\n",
    "df_Analyst['Location'].value_counts()"
   ]
  },
  {
   "cell_type": "markdown",
   "metadata": {},
   "source": [
    "#### 添加国家信息\n",
    "\n",
    "在位置信息中，最后一个逗号后面为国家名，我们对Location进一步分组。\n",
    "\n",
    "在df_Analyst中生成一个新列'Country'，从Location中，将最后一个逗号后面的值提取出来，作为该列的值。"
   ]
  },
  {
   "cell_type": "code",
   "execution_count": 19,
   "metadata": {},
   "outputs": [
    {
     "name": "stderr",
     "output_type": "stream",
     "text": [
      "/Applications/anaconda3/lib/python3.6/site-packages/ipykernel_launcher.py:3: SettingWithCopyWarning: \n",
      "A value is trying to be set on a copy of a slice from a DataFrame.\n",
      "Try using .loc[row_indexer,col_indexer] = value instead\n",
      "\n",
      "See the caveats in the documentation: http://pandas.pydata.org/pandas-docs/stable/indexing.html#indexing-view-versus-copy\n",
      "  This is separate from the ipykernel package so we can avoid doing imports until\n"
     ]
    },
    {
     "data": {
      "text/plain": [
       " United States     40\n",
       " Switzerland        6\n",
       " Ireland            5\n",
       " United Kingdom     4\n",
       "Singapore           1\n",
       " India              1\n",
       " Israel             1\n",
       " China              1\n",
       " Japan              1\n",
       " France             1\n",
       " Germany            1\n",
       "Name: Country, dtype: int64"
      ]
     },
     "execution_count": 19,
     "metadata": {},
     "output_type": "execute_result"
    }
   ],
   "source": [
    "# TODO\n",
    "# 生成新列df_Analyst['Country']，其中内容为df_Analyst['Location']中截取最后一个逗号之后的内容\n",
    "df_Analyst['Country'] = df_Analyst['Location'].apply(lambda country: re.split(r\",\",country)[-1])\n",
    "\n",
    "df_Analyst['Country'].value_counts()"
   ]
  },
  {
   "cell_type": "markdown",
   "metadata": {},
   "source": [
    "需求量排在前4的国家都是那些？\n",
    "\n",
    "** 回答 ：**\n",
    "United States、 \n",
    "Switzerland、\n",
    "Ireland、\n",
    "United Kingdom "
   ]
  },
  {
   "cell_type": "markdown",
   "metadata": {},
   "source": [
    "#### 统计数据分析师的语言技能需求\n",
    "\n"
   ]
  },
  {
   "cell_type": "code",
   "execution_count": 20,
   "metadata": {},
   "outputs": [
    {
     "name": "stdout",
     "output_type": "stream",
     "text": [
      "{'python': 13, 'java': 1, 'c++': 1, 'php': 0, 'javascript': 0, 'objective-c': 0, 'ruby': 0, 'perl': 0, 'c': 0, 'c#': 0, 'sql': 10, 'swift': 0, 'scala': 0, 'r': 11}\n"
     ]
    }
   ],
   "source": [
    "print(all_lang_count(df_Analyst))"
   ]
  },
  {
   "cell_type": "markdown",
   "metadata": {},
   "source": [
    "对于数据分析师，哪种语言的要求最高？\n",
    "\n",
    "** 回答：**\n",
    "python"
   ]
  },
  {
   "cell_type": "markdown",
   "metadata": {},
   "source": [
    "#### 透视表\n",
    "\n",
    "构建透视表，探寻不同国家对于数据分析师的工作年限需求。\n",
    "\n",
    "透视表index为二级索引，第一级是国家（'Country'），第二级是职位分类（'Category'）,values是'Minimum_years_experience'。当生成表时出现元素冲突时，定义mean为aggfunc。"
   ]
  },
  {
   "cell_type": "code",
   "execution_count": 21,
   "metadata": {},
   "outputs": [
    {
     "data": {
      "text/html": [
       "<div>\n",
       "<style scoped>\n",
       "    .dataframe tbody tr th:only-of-type {\n",
       "        vertical-align: middle;\n",
       "    }\n",
       "\n",
       "    .dataframe tbody tr th {\n",
       "        vertical-align: top;\n",
       "    }\n",
       "\n",
       "    .dataframe thead th {\n",
       "        text-align: right;\n",
       "    }\n",
       "</style>\n",
       "<table border=\"1\" class=\"dataframe\">\n",
       "  <thead>\n",
       "    <tr style=\"text-align: right;\">\n",
       "      <th></th>\n",
       "      <th></th>\n",
       "      <th>Minimum_years_experience</th>\n",
       "    </tr>\n",
       "    <tr>\n",
       "      <th>Country</th>\n",
       "      <th>Category</th>\n",
       "      <th></th>\n",
       "    </tr>\n",
       "  </thead>\n",
       "  <tbody>\n",
       "    <tr>\n",
       "      <th>China</th>\n",
       "      <th>Partnerships</th>\n",
       "      <td>2.000000</td>\n",
       "    </tr>\n",
       "    <tr>\n",
       "      <th>France</th>\n",
       "      <th>Sales Operations</th>\n",
       "      <td>0.000000</td>\n",
       "    </tr>\n",
       "    <tr>\n",
       "      <th>Germany</th>\n",
       "      <th>Sales Operations</th>\n",
       "      <td>0.000000</td>\n",
       "    </tr>\n",
       "    <tr>\n",
       "      <th>India</th>\n",
       "      <th>Product &amp; Customer Support</th>\n",
       "      <td>2.000000</td>\n",
       "    </tr>\n",
       "    <tr>\n",
       "      <th rowspan=\"4\" valign=\"top\">Ireland</th>\n",
       "      <th>Finance</th>\n",
       "      <td>0.000000</td>\n",
       "    </tr>\n",
       "    <tr>\n",
       "      <th>Legal &amp; Government Relations</th>\n",
       "      <td>0.000000</td>\n",
       "    </tr>\n",
       "    <tr>\n",
       "      <th>Product &amp; Customer Support</th>\n",
       "      <td>0.000000</td>\n",
       "    </tr>\n",
       "    <tr>\n",
       "      <th>Sales &amp; Account Management</th>\n",
       "      <td>0.000000</td>\n",
       "    </tr>\n",
       "    <tr>\n",
       "      <th>Israel</th>\n",
       "      <th>Business Strategy</th>\n",
       "      <td>0.000000</td>\n",
       "    </tr>\n",
       "    <tr>\n",
       "      <th>Japan</th>\n",
       "      <th>Business Strategy</th>\n",
       "      <td>0.000000</td>\n",
       "    </tr>\n",
       "    <tr>\n",
       "      <th>Switzerland</th>\n",
       "      <th>Product &amp; Customer Support</th>\n",
       "      <td>0.000000</td>\n",
       "    </tr>\n",
       "    <tr>\n",
       "      <th rowspan=\"3\" valign=\"top\">United Kingdom</th>\n",
       "      <th>Finance</th>\n",
       "      <td>0.000000</td>\n",
       "    </tr>\n",
       "    <tr>\n",
       "      <th>Marketing &amp; Communications</th>\n",
       "      <td>0.000000</td>\n",
       "    </tr>\n",
       "    <tr>\n",
       "      <th>Sales Operations</th>\n",
       "      <td>0.000000</td>\n",
       "    </tr>\n",
       "    <tr>\n",
       "      <th rowspan=\"9\" valign=\"top\">United States</th>\n",
       "      <th>Business Strategy</th>\n",
       "      <td>3.866667</td>\n",
       "    </tr>\n",
       "    <tr>\n",
       "      <th>Finance</th>\n",
       "      <td>3.875000</td>\n",
       "    </tr>\n",
       "    <tr>\n",
       "      <th>Legal &amp; Government Relations</th>\n",
       "      <td>4.000000</td>\n",
       "    </tr>\n",
       "    <tr>\n",
       "      <th>Marketing &amp; Communications</th>\n",
       "      <td>2.750000</td>\n",
       "    </tr>\n",
       "    <tr>\n",
       "      <th>People Operations</th>\n",
       "      <td>1.250000</td>\n",
       "    </tr>\n",
       "    <tr>\n",
       "      <th>Product &amp; Customer Support</th>\n",
       "      <td>3.333333</td>\n",
       "    </tr>\n",
       "    <tr>\n",
       "      <th>Program Management</th>\n",
       "      <td>4.000000</td>\n",
       "    </tr>\n",
       "    <tr>\n",
       "      <th>Sales Operations</th>\n",
       "      <td>2.000000</td>\n",
       "    </tr>\n",
       "    <tr>\n",
       "      <th>Technical Solutions</th>\n",
       "      <td>2.000000</td>\n",
       "    </tr>\n",
       "    <tr>\n",
       "      <th>Singapore</th>\n",
       "      <th>Finance</th>\n",
       "      <td>4.000000</td>\n",
       "    </tr>\n",
       "  </tbody>\n",
       "</table>\n",
       "</div>"
      ],
      "text/plain": [
       "                                              Minimum_years_experience\n",
       "Country         Category                                              \n",
       " China          Partnerships                                  2.000000\n",
       " France         Sales Operations                              0.000000\n",
       " Germany        Sales Operations                              0.000000\n",
       " India          Product & Customer Support                    2.000000\n",
       " Ireland        Finance                                       0.000000\n",
       "                Legal & Government Relations                  0.000000\n",
       "                Product & Customer Support                    0.000000\n",
       "                Sales & Account Management                    0.000000\n",
       " Israel         Business Strategy                             0.000000\n",
       " Japan          Business Strategy                             0.000000\n",
       " Switzerland    Product & Customer Support                    0.000000\n",
       " United Kingdom Finance                                       0.000000\n",
       "                Marketing & Communications                    0.000000\n",
       "                Sales Operations                              0.000000\n",
       " United States  Business Strategy                             3.866667\n",
       "                Finance                                       3.875000\n",
       "                Legal & Government Relations                  4.000000\n",
       "                Marketing & Communications                    2.750000\n",
       "                People Operations                             1.250000\n",
       "                Product & Customer Support                    3.333333\n",
       "                Program Management                            4.000000\n",
       "                Sales Operations                              2.000000\n",
       "                Technical Solutions                           2.000000\n",
       "Singapore       Finance                                       4.000000"
      ]
     },
     "execution_count": 21,
     "metadata": {},
     "output_type": "execute_result"
    }
   ],
   "source": [
    "import numpy as np\n",
    "# TODO\n",
    "# 定义透视表category_country，以df_Analyst的Country和Category为二级索引，Minimum_years_experience为value，aggfunc为mean\n",
    "category_country = df_Analyst.pivot_table(index=['Country','Category'], values='Minimum_years_experience', aggfunc=np.mean)\n",
    "\n",
    "category_country"
   ]
  },
  {
   "cell_type": "markdown",
   "metadata": {},
   "source": [
    "中国的职位需求中，其对应的Category是什么？要求的最低工作年限是多少？\n",
    "\n",
    "** 回答：**\n",
    "对应的Category是Partnerships,要求的最低工作年限是2年"
   ]
  },
  {
   "cell_type": "code",
   "execution_count": null,
   "metadata": {},
   "outputs": [],
   "source": []
  }
 ],
 "metadata": {
  "kernelspec": {
   "display_name": "Python 3",
   "language": "python",
   "name": "python3"
  },
  "language_info": {
   "codemirror_mode": {
    "name": "ipython",
    "version": 3
   },
   "file_extension": ".py",
   "mimetype": "text/x-python",
   "name": "python",
   "nbconvert_exporter": "python",
   "pygments_lexer": "ipython3",
   "version": "3.6.6"
  }
 },
 "nbformat": 4,
 "nbformat_minor": 1
}
