{
 "cells": [
  {
   "cell_type": "markdown",
   "metadata": {},
   "source": [
    "# 数据清洗与整理"
   ]
  },
  {
   "cell_type": "markdown",
   "metadata": {},
   "source": [
    "## 数据介绍\n",
    "\n",
    "**station.csv** : 记录了美国旧金山海湾地区共享自行车站的信息，包含以下变量：\n",
    "- **id** :  车站编号\n",
    "- **name** :  车站名称\n",
    "- **lat** :  车站的纬度\n",
    "- **long** :  车站的经度\n",
    "- **docks** :  车站的码头数\n",
    "- **city** :  车站所在位置\n",
    "\n",
    "** trips1.csv、trips2.csv、trips3.csv** : 2013年8月底的所有trips, 包含以下变量：\n",
    "- **start_id** : trip的起始点\n",
    "- **end_id** : trip的终止点\n",
    "- **start_date** : trip的起始时间\n",
    "- **end_date** : trip的终止时间\n",
    "- **subscription_type** : 使用者类型（ 用户“Subscriber” 或者客户“Customer” ）\n"
   ]
  },
  {
   "cell_type": "markdown",
   "metadata": {},
   "source": [
    "### 数据处理过程将会完成以下各项：\n",
    "1. 导入 'station.csv' 数据，并且命名为 stations<br>\n",
    "   导入 'trips1.csv'、'trips2.csv'、'trips3.csv' 数据，并且分别命名为 trips1、trips2、trips3\n",
    "2. 将 trips1、trips2、trips3 合并为一个Dataframe, 命名为 trips\n",
    "3. 将 staions 中所有列名称前添加字段'start_'，并且将 start_id 设置为列索引\n",
    "4. 将 trips 和 stations 按照起始车站id进行字段匹配并合并，保留所有匹配成功的信息\n",
    "5. 将trips_stations 导出为' trips_stations.csv'文件\n",
    "6. 查看 trips_stations 中是否包含有重复值，并且将重复值删除\n",
    "7. 查看 trips_stations 中是否包含有缺失值，并且处理缺失值\n",
    "8. 去除 trips_stations 中 ‘start_name’ 列中每个字符串左右两边的空格和’#‘\n",
    "9. 将 'start_date' 和 'end_date' 中日期和时间进行拆分, 并分别记录在 'start_date'、'start_time'、'end_date'、'end_time'列\n",
    "10. 将每个终点车站数进行分组，分为<br>\n",
    "    '13以下', '13到15', '15到17', '17到19','19到21','21到23','23到25','25以上' 几类，<br>\n",
    "   并且在'start_docks'列右侧增加一列'start_docks_classification'记录每个车站数所属的分类 \n",
    "11. 将'subscription_type'转化为虚拟变量，添加在dateframe的最后一列"
   ]
  },
  {
   "cell_type": "markdown",
   "metadata": {},
   "source": [
    "### 导入数据"
   ]
  },
  {
   "cell_type": "markdown",
   "metadata": {},
   "source": [
    "#### 1. 导入 'station.csv' 数据，并且命名为 stations <br> <br>导入 'trips1.csv'、'trips2.csv'、'trips3.csv' 数据，并且分别命名为 trips1、trips2、trips3"
   ]
  },
  {
   "cell_type": "code",
   "execution_count": 2,
   "metadata": {
    "collapsed": true
   },
   "outputs": [],
   "source": [
    "# 导入 pandas 和 numpy 函数库\n",
    "import pandas as pd\n",
    "import numpy as np"
   ]
  },
  {
   "cell_type": "code",
   "execution_count": 3,
   "metadata": {},
   "outputs": [
    {
     "data": {
      "text/plain": [
       "pandas.core.frame.DataFrame"
      ]
     },
     "execution_count": 3,
     "metadata": {},
     "output_type": "execute_result"
    }
   ],
   "source": [
    "# 导入csv文件\n",
    "stations = pd.read_csv('stations.csv', encoding= 'utf-8' )\n",
    "trips1 = pd.read_csv('trips1.csv', encoding = 'utf-8')\n",
    "trips2 = pd.read_csv('trips2.csv', encoding = 'utf-8')\n",
    "trips3 = pd.read_csv('trips3.csv', encoding = 'utf-8')\n",
    "type(trips1)"
   ]
  },
  {
   "cell_type": "markdown",
   "metadata": {},
   "source": [
    "sep 指定分隔符 默认为','<br>\n",
    "names 指定列名列表"
   ]
  },
  {
   "cell_type": "markdown",
   "metadata": {},
   "source": [
    "### 合并数据"
   ]
  },
  {
   "cell_type": "markdown",
   "metadata": {},
   "source": [
    "#### 2. 将 trips1、trips2、trips3 合并为一个Dataframe, 命名为 trips"
   ]
  },
  {
   "cell_type": "code",
   "execution_count": 4,
   "metadata": {
    "collapsed": true
   },
   "outputs": [],
   "source": [
    "trips = pd.concat([trips1,trips2,trips3])"
   ]
  },
  {
   "cell_type": "markdown",
   "metadata": {},
   "source": [
    "行之间的连接"
   ]
  },
  {
   "cell_type": "markdown",
   "metadata": {},
   "source": [
    "join = 'inner' 取两表的交集<br>\n",
    "join = 'outer 取两表的并集"
   ]
  },
  {
   "cell_type": "markdown",
   "metadata": {},
   "source": [
    "axis = 0 列对齐，两表上下合并<br>\n",
    "axis = 1 行对齐，两表左右合并"
   ]
  },
  {
   "cell_type": "markdown",
   "metadata": {},
   "source": [
    "#### 3. 将 staions 中所有列名称前添加字段'start_'，并且将 start_id 设置为列索引"
   ]
  },
  {
   "cell_type": "code",
   "execution_count": 5,
   "metadata": {
    "collapsed": true
   },
   "outputs": [],
   "source": [
    "# 修改列名称\n",
    "stations.columns = stations.columns.map(lambda x: 'start_' + x)"
   ]
  },
  {
   "cell_type": "markdown",
   "metadata": {},
   "source": [
    "map() 会根据提供的函数对指定序列做映射。"
   ]
  },
  {
   "cell_type": "code",
   "execution_count": 6,
   "metadata": {
    "collapsed": true
   },
   "outputs": [],
   "source": [
    "# 将 start_id 设置为列索引\n",
    "stations.set_index(['start_id'], inplace = True)"
   ]
  },
  {
   "cell_type": "markdown",
   "metadata": {},
   "source": [
    "#### 4. 将 trips 和 stations 按照起始车站id进行字段匹配并合并，保留所有匹配成功的信息"
   ]
  },
  {
   "cell_type": "code",
   "execution_count": 7,
   "metadata": {
    "collapsed": true
   },
   "outputs": [],
   "source": [
    "# 将 trips 和 stations 按照起始车站id进行匹配\n",
    "trips_stations = pd.merge(trips, stations, left_on = 'start_id',right_on = 'start_id',\n",
    "                          how = 'left',right_index = True)"
   ]
  },
  {
   "cell_type": "markdown",
   "metadata": {},
   "source": [
    "how = 'inner'(默认）未完全匹配的时候，保留已匹配的部分<br>\n",
    "how = 'left' 未完全匹配的时候，保留左边未匹配的部分<br>\n",
    "how = 'right'未完全匹配的时候，保留右边未匹配的部分<br>\n",
    "how = 'outer'未完全匹配的时候，保留两边所有未匹配的部分"
   ]
  },
  {
   "cell_type": "code",
   "execution_count": null,
   "metadata": {
    "collapsed": true
   },
   "outputs": [],
   "source": [
    "trips.join(stations,how = 'left')"
   ]
  },
  {
   "cell_type": "markdown",
   "metadata": {},
   "source": [
    "### 导出数据"
   ]
  },
  {
   "cell_type": "markdown",
   "metadata": {},
   "source": [
    "#### 5. 将trips_stations 导出为' trips_stations.csv'文件"
   ]
  },
  {
   "cell_type": "code",
   "execution_count": null,
   "metadata": {
    "collapsed": true
   },
   "outputs": [],
   "source": [
    "# 导出csv文件\n",
    "trips_stations.to_csv('trips_stations.csv')"
   ]
  },
  {
   "cell_type": "markdown",
   "metadata": {},
   "source": [
    "### 去除重复值"
   ]
  },
  {
   "cell_type": "markdown",
   "metadata": {},
   "source": [
    "#### 6. 查看 trips_stations 中是否包含有重复值，并且将重复值删除"
   ]
  },
  {
   "cell_type": "code",
   "execution_count": 8,
   "metadata": {
    "scrolled": true
   },
   "outputs": [
    {
     "data": {
      "text/html": [
       "<div>\n",
       "<style>\n",
       "    .dataframe thead tr:only-child th {\n",
       "        text-align: right;\n",
       "    }\n",
       "\n",
       "    .dataframe thead th {\n",
       "        text-align: left;\n",
       "    }\n",
       "\n",
       "    .dataframe tbody tr th {\n",
       "        vertical-align: top;\n",
       "    }\n",
       "</style>\n",
       "<table border=\"1\" class=\"dataframe\">\n",
       "  <thead>\n",
       "    <tr style=\"text-align: right;\">\n",
       "      <th></th>\n",
       "      <th>start_id</th>\n",
       "      <th>end_id</th>\n",
       "      <th>start_date</th>\n",
       "      <th>end_date</th>\n",
       "      <th>subscription_type</th>\n",
       "      <th>start_name</th>\n",
       "      <th>start_lat</th>\n",
       "      <th>start_long</th>\n",
       "      <th>start_docks</th>\n",
       "      <th>start_city</th>\n",
       "    </tr>\n",
       "  </thead>\n",
       "  <tbody>\n",
       "    <tr>\n",
       "      <th>39</th>\n",
       "      <td>56</td>\n",
       "      <td>55</td>\n",
       "      <td>8/29/2013 16:27</td>\n",
       "      <td>8/29/2013 16:30</td>\n",
       "      <td>Subscriber</td>\n",
       "      <td>#Market at 10th#</td>\n",
       "      <td>37.776619</td>\n",
       "      <td>-122.417385</td>\n",
       "      <td>27.0</td>\n",
       "      <td>San Francisco</td>\n",
       "    </tr>\n",
       "    <tr>\n",
       "      <th>46</th>\n",
       "      <td>48</td>\n",
       "      <td>47</td>\n",
       "      <td>8/29/2013 16:15</td>\n",
       "      <td>8/29/2013 16:18</td>\n",
       "      <td>Subscriber</td>\n",
       "      <td>#Golden Gate at Polk#</td>\n",
       "      <td>37.781332</td>\n",
       "      <td>-122.418603</td>\n",
       "      <td>23.0</td>\n",
       "      <td>San Francisco</td>\n",
       "    </tr>\n",
       "    <tr>\n",
       "      <th>51</th>\n",
       "      <td>57</td>\n",
       "      <td>46</td>\n",
       "      <td>8/29/2013 17:57</td>\n",
       "      <td>8/29/2013 18:00</td>\n",
       "      <td>Customer</td>\n",
       "      <td>#Yerba Buena Center of the Arts (3rd ...</td>\n",
       "      <td>37.784878</td>\n",
       "      <td>-122.401014</td>\n",
       "      <td>19.0</td>\n",
       "      <td>San Francisco</td>\n",
       "    </tr>\n",
       "    <tr>\n",
       "      <th>69</th>\n",
       "      <td>55</td>\n",
       "      <td>47</td>\n",
       "      <td>8/29/2013 13:58</td>\n",
       "      <td>8/29/2013 14:02</td>\n",
       "      <td>Subscriber</td>\n",
       "      <td>#South Van Ness at Market#</td>\n",
       "      <td>37.774814</td>\n",
       "      <td>-122.418954</td>\n",
       "      <td>19.0</td>\n",
       "      <td>San Francisco</td>\n",
       "    </tr>\n",
       "    <tr>\n",
       "      <th>72</th>\n",
       "      <td>58</td>\n",
       "      <td>54</td>\n",
       "      <td>8/29/2013 15:39</td>\n",
       "      <td>8/29/2013 15:43</td>\n",
       "      <td>Subscriber</td>\n",
       "      <td>#San Francisco Caltrain 2 (330 Townse...</td>\n",
       "      <td>37.776600</td>\n",
       "      <td>-122.395470</td>\n",
       "      <td>23.0</td>\n",
       "      <td>San Francisco</td>\n",
       "    </tr>\n",
       "    <tr>\n",
       "      <th>113</th>\n",
       "      <td>38</td>\n",
       "      <td>34</td>\n",
       "      <td>8/29/2013 13:01</td>\n",
       "      <td>8/29/2013 13:06</td>\n",
       "      <td>Subscriber</td>\n",
       "      <td>#Embarcadero at Vallejo#</td>\n",
       "      <td>37.799953</td>\n",
       "      <td>-122.398525</td>\n",
       "      <td>15.0</td>\n",
       "      <td>San Francisco</td>\n",
       "    </tr>\n",
       "    <tr>\n",
       "      <th>146</th>\n",
       "      <td>60</td>\n",
       "      <td>37</td>\n",
       "      <td>8/29/2013 15:32</td>\n",
       "      <td>8/29/2013 15:38</td>\n",
       "      <td>Customer</td>\n",
       "      <td>#Powell at Post (Union Square)#</td>\n",
       "      <td>37.788446</td>\n",
       "      <td>-122.408499</td>\n",
       "      <td>19.0</td>\n",
       "      <td>San Francisco</td>\n",
       "    </tr>\n",
       "    <tr>\n",
       "      <th>157</th>\n",
       "      <td>34</td>\n",
       "      <td>62</td>\n",
       "      <td>8/29/2013 16:12</td>\n",
       "      <td>8/29/2013 16:18</td>\n",
       "      <td>Customer</td>\n",
       "      <td>#Davis at Jackson#</td>\n",
       "      <td>37.797280</td>\n",
       "      <td>-122.398436</td>\n",
       "      <td>15.0</td>\n",
       "      <td>San Francisco</td>\n",
       "    </tr>\n",
       "    <tr>\n",
       "      <th>204</th>\n",
       "      <td>56</td>\n",
       "      <td>48</td>\n",
       "      <td>8/29/2013 17:13</td>\n",
       "      <td>8/29/2013 17:20</td>\n",
       "      <td>Subscriber</td>\n",
       "      <td>#Market at 10th#</td>\n",
       "      <td>37.776619</td>\n",
       "      <td>-122.417385</td>\n",
       "      <td>27.0</td>\n",
       "      <td>San Francisco</td>\n",
       "    </tr>\n",
       "    <tr>\n",
       "      <th>229</th>\n",
       "      <td>66</td>\n",
       "      <td>65</td>\n",
       "      <td>8/29/2013 13:16</td>\n",
       "      <td>8/29/2013 13:24</td>\n",
       "      <td>Customer</td>\n",
       "      <td>#Market at Sansome#</td>\n",
       "      <td>37.789625</td>\n",
       "      <td>-122.400811</td>\n",
       "      <td>27.0</td>\n",
       "      <td>San Francisco</td>\n",
       "    </tr>\n",
       "    <tr>\n",
       "      <th>234</th>\n",
       "      <td>47</td>\n",
       "      <td>48</td>\n",
       "      <td>8/29/2013 17:59</td>\n",
       "      <td>8/29/2013 18:07</td>\n",
       "      <td>Subscriber</td>\n",
       "      <td>#San Francisco City Hall#</td>\n",
       "      <td>37.778650</td>\n",
       "      <td>-122.418235</td>\n",
       "      <td>19.0</td>\n",
       "      <td>San Francisco</td>\n",
       "    </tr>\n",
       "    <tr>\n",
       "      <th>250</th>\n",
       "      <td>66</td>\n",
       "      <td>40</td>\n",
       "      <td>8/29/2013 12:10</td>\n",
       "      <td>8/29/2013 12:19</td>\n",
       "      <td>Subscriber</td>\n",
       "      <td>#Market at Sansome#</td>\n",
       "      <td>37.789625</td>\n",
       "      <td>-122.400811</td>\n",
       "      <td>27.0</td>\n",
       "      <td>San Francisco</td>\n",
       "    </tr>\n",
       "    <tr>\n",
       "      <th>251</th>\n",
       "      <td>40</td>\n",
       "      <td>38</td>\n",
       "      <td>8/29/2013 16:17</td>\n",
       "      <td>8/29/2013 16:26</td>\n",
       "      <td>Subscriber</td>\n",
       "      <td>#Harry Bridges Plaza (Ferry Building)...</td>\n",
       "      <td>37.795392</td>\n",
       "      <td>-122.394203</td>\n",
       "      <td>23.0</td>\n",
       "      <td>San Francisco</td>\n",
       "    </tr>\n",
       "    <tr>\n",
       "      <th>262</th>\n",
       "      <td>61</td>\n",
       "      <td>65</td>\n",
       "      <td>8/29/2013 12:55</td>\n",
       "      <td>8/29/2013 13:04</td>\n",
       "      <td>Subscriber</td>\n",
       "      <td>#Civic Center BART (7th at Market)#  ...</td>\n",
       "      <td>37.781039</td>\n",
       "      <td>-122.411748</td>\n",
       "      <td>23.0</td>\n",
       "      <td>San Francisco</td>\n",
       "    </tr>\n",
       "    <tr>\n",
       "      <th>265</th>\n",
       "      <td>43</td>\n",
       "      <td>40</td>\n",
       "      <td>8/29/2013 18:56</td>\n",
       "      <td>8/29/2013 19:05</td>\n",
       "      <td>Subscriber</td>\n",
       "      <td>#Embarcadero at Bryant#</td>\n",
       "      <td>37.787152</td>\n",
       "      <td>-122.388013</td>\n",
       "      <td>15.0</td>\n",
       "      <td>San Francisco</td>\n",
       "    </tr>\n",
       "    <tr>\n",
       "      <th>272</th>\n",
       "      <td>37</td>\n",
       "      <td>62</td>\n",
       "      <td>8/29/2013 18:26</td>\n",
       "      <td>8/29/2013 18:35</td>\n",
       "      <td>Customer</td>\n",
       "      <td>#Post at Kearney#</td>\n",
       "      <td>37.788975</td>\n",
       "      <td>-122.403452</td>\n",
       "      <td>19.0</td>\n",
       "      <td>San Francisco</td>\n",
       "    </tr>\n",
       "    <tr>\n",
       "      <th>292</th>\n",
       "      <td>56</td>\n",
       "      <td>42</td>\n",
       "      <td>8/29/2013 17:09</td>\n",
       "      <td>8/29/2013 17:18</td>\n",
       "      <td>Subscriber</td>\n",
       "      <td>#Market at 10th#</td>\n",
       "      <td>37.776619</td>\n",
       "      <td>-122.417385</td>\n",
       "      <td>27.0</td>\n",
       "      <td>San Francisco</td>\n",
       "    </tr>\n",
       "    <tr>\n",
       "      <th>295</th>\n",
       "      <td>2</td>\n",
       "      <td>12</td>\n",
       "      <td>8/29/2013 22:06</td>\n",
       "      <td>8/29/2013 22:16</td>\n",
       "      <td>Subscriber</td>\n",
       "      <td>#San Jose Civic Center#</td>\n",
       "      <td>37.330698</td>\n",
       "      <td>-121.888979</td>\n",
       "      <td>15.0</td>\n",
       "      <td>San Jose</td>\n",
       "    </tr>\n",
       "    <tr>\n",
       "      <th>296</th>\n",
       "      <td>61</td>\n",
       "      <td>54</td>\n",
       "      <td>8/29/2013 18:55</td>\n",
       "      <td>8/29/2013 19:05</td>\n",
       "      <td>Subscriber</td>\n",
       "      <td>#Civic Center BART (7th at Market)#  ...</td>\n",
       "      <td>37.781039</td>\n",
       "      <td>-122.411748</td>\n",
       "      <td>23.0</td>\n",
       "      <td>San Francisco</td>\n",
       "    </tr>\n",
       "    <tr>\n",
       "      <th>302</th>\n",
       "      <td>47</td>\n",
       "      <td>55</td>\n",
       "      <td>8/29/2013 12:24</td>\n",
       "      <td>8/29/2013 12:34</td>\n",
       "      <td>Subscriber</td>\n",
       "      <td>#San Francisco City Hall#</td>\n",
       "      <td>37.778650</td>\n",
       "      <td>-122.418235</td>\n",
       "      <td>19.0</td>\n",
       "      <td>San Francisco</td>\n",
       "    </tr>\n",
       "    <tr>\n",
       "      <th>311</th>\n",
       "      <td>55</td>\n",
       "      <td>42</td>\n",
       "      <td>8/29/2013 16:36</td>\n",
       "      <td>8/29/2013 16:46</td>\n",
       "      <td>Subscriber</td>\n",
       "      <td>#South Van Ness at Market#</td>\n",
       "      <td>37.774814</td>\n",
       "      <td>-122.418954</td>\n",
       "      <td>19.0</td>\n",
       "      <td>San Francisco</td>\n",
       "    </tr>\n",
       "    <tr>\n",
       "      <th>353</th>\n",
       "      <td>42</td>\n",
       "      <td>40</td>\n",
       "      <td>8/29/2013 15:26</td>\n",
       "      <td>8/29/2013 15:38</td>\n",
       "      <td>Subscriber</td>\n",
       "      <td>#Powell Street BART#</td>\n",
       "      <td>37.783871</td>\n",
       "      <td>-122.408433</td>\n",
       "      <td>19.0</td>\n",
       "      <td>San Francisco</td>\n",
       "    </tr>\n",
       "    <tr>\n",
       "      <th>356</th>\n",
       "      <td>42</td>\n",
       "      <td>40</td>\n",
       "      <td>8/29/2013 15:26</td>\n",
       "      <td>8/29/2013 15:38</td>\n",
       "      <td>Subscriber</td>\n",
       "      <td>#Powell Street BART#</td>\n",
       "      <td>37.783871</td>\n",
       "      <td>-122.408433</td>\n",
       "      <td>19.0</td>\n",
       "      <td>San Francisco</td>\n",
       "    </tr>\n",
       "    <tr>\n",
       "      <th>363</th>\n",
       "      <td>63</td>\n",
       "      <td>49</td>\n",
       "      <td>8/29/2013 12:41</td>\n",
       "      <td>8/29/2013 12:53</td>\n",
       "      <td>Subscriber</td>\n",
       "      <td>#Steuart at Market#</td>\n",
       "      <td>37.794139</td>\n",
       "      <td>-122.394434</td>\n",
       "      <td>23.0</td>\n",
       "      <td>San Francisco</td>\n",
       "    </tr>\n",
       "    <tr>\n",
       "      <th>376</th>\n",
       "      <td>62</td>\n",
       "      <td>60</td>\n",
       "      <td>8/29/2013 21:14</td>\n",
       "      <td>8/29/2013 21:26</td>\n",
       "      <td>Customer</td>\n",
       "      <td>#Grant Avenue at Columbus Avenue#    ...</td>\n",
       "      <td>37.798522</td>\n",
       "      <td>-122.407245</td>\n",
       "      <td>15.0</td>\n",
       "      <td>San Francisco</td>\n",
       "    </tr>\n",
       "    <tr>\n",
       "      <th>377</th>\n",
       "      <td>65</td>\n",
       "      <td>40</td>\n",
       "      <td>8/29/2013 15:20</td>\n",
       "      <td>8/29/2013 15:32</td>\n",
       "      <td>Subscriber</td>\n",
       "      <td>#Market at 4th#</td>\n",
       "      <td>37.786305</td>\n",
       "      <td>-122.404966</td>\n",
       "      <td>NaN</td>\n",
       "      <td>San Francisco</td>\n",
       "    </tr>\n",
       "    <tr>\n",
       "      <th>378</th>\n",
       "      <td>65</td>\n",
       "      <td>40</td>\n",
       "      <td>8/29/2013 15:20</td>\n",
       "      <td>8/29/2013 15:32</td>\n",
       "      <td>Subscriber</td>\n",
       "      <td>#Market at 4th#</td>\n",
       "      <td>37.786305</td>\n",
       "      <td>-122.404966</td>\n",
       "      <td>NaN</td>\n",
       "      <td>San Francisco</td>\n",
       "    </tr>\n",
       "    <tr>\n",
       "      <th>431</th>\n",
       "      <td>40</td>\n",
       "      <td>65</td>\n",
       "      <td>8/29/2013 16:14</td>\n",
       "      <td>8/29/2013 16:27</td>\n",
       "      <td>Subscriber</td>\n",
       "      <td>#Harry Bridges Plaza (Ferry Building)...</td>\n",
       "      <td>37.795392</td>\n",
       "      <td>-122.394203</td>\n",
       "      <td>23.0</td>\n",
       "      <td>San Francisco</td>\n",
       "    </tr>\n",
       "    <tr>\n",
       "      <th>434</th>\n",
       "      <td>40</td>\n",
       "      <td>49</td>\n",
       "      <td>8/29/2013 20:13</td>\n",
       "      <td>8/29/2013 20:26</td>\n",
       "      <td>Customer</td>\n",
       "      <td>#Harry Bridges Plaza (Ferry Building)...</td>\n",
       "      <td>37.795392</td>\n",
       "      <td>-122.394203</td>\n",
       "      <td>23.0</td>\n",
       "      <td>San Francisco</td>\n",
       "    </tr>\n",
       "    <tr>\n",
       "      <th>441</th>\n",
       "      <td>55</td>\n",
       "      <td>51</td>\n",
       "      <td>8/29/2013 17:58</td>\n",
       "      <td>8/29/2013 18:12</td>\n",
       "      <td>Subscriber</td>\n",
       "      <td>#South Van Ness at Market#</td>\n",
       "      <td>37.774814</td>\n",
       "      <td>-122.418954</td>\n",
       "      <td>19.0</td>\n",
       "      <td>San Francisco</td>\n",
       "    </tr>\n",
       "    <tr>\n",
       "      <th>...</th>\n",
       "      <td>...</td>\n",
       "      <td>...</td>\n",
       "      <td>...</td>\n",
       "      <td>...</td>\n",
       "      <td>...</td>\n",
       "      <td>...</td>\n",
       "      <td>...</td>\n",
       "      <td>...</td>\n",
       "      <td>...</td>\n",
       "      <td>...</td>\n",
       "    </tr>\n",
       "    <tr>\n",
       "      <th>413</th>\n",
       "      <td>30</td>\n",
       "      <td>29</td>\n",
       "      <td>8/31/2013 12:20</td>\n",
       "      <td>8/31/2013 12:39</td>\n",
       "      <td>Customer</td>\n",
       "      <td>#California Ave Caltrain Station#    ...</td>\n",
       "      <td>37.429082</td>\n",
       "      <td>-122.142805</td>\n",
       "      <td>15.0</td>\n",
       "      <td>Palo Alto</td>\n",
       "    </tr>\n",
       "    <tr>\n",
       "      <th>421</th>\n",
       "      <td>40</td>\n",
       "      <td>61</td>\n",
       "      <td>8/31/2013 18:29</td>\n",
       "      <td>8/31/2013 18:48</td>\n",
       "      <td>Customer</td>\n",
       "      <td>#Harry Bridges Plaza (Ferry Building)...</td>\n",
       "      <td>37.795392</td>\n",
       "      <td>-122.394203</td>\n",
       "      <td>23.0</td>\n",
       "      <td>San Francisco</td>\n",
       "    </tr>\n",
       "    <tr>\n",
       "      <th>426</th>\n",
       "      <td>63</td>\n",
       "      <td>59</td>\n",
       "      <td>8/31/2013 11:39</td>\n",
       "      <td>8/31/2013 11:58</td>\n",
       "      <td>Customer</td>\n",
       "      <td>#Steuart at Market#</td>\n",
       "      <td>37.794139</td>\n",
       "      <td>-122.394434</td>\n",
       "      <td>23.0</td>\n",
       "      <td>San Francisco</td>\n",
       "    </tr>\n",
       "    <tr>\n",
       "      <th>435</th>\n",
       "      <td>44</td>\n",
       "      <td>55</td>\n",
       "      <td>8/31/2013 16:31</td>\n",
       "      <td>8/31/2013 16:51</td>\n",
       "      <td>Customer</td>\n",
       "      <td>#Temporary Transbay Terminal (Howard ...</td>\n",
       "      <td>37.789756</td>\n",
       "      <td>-122.394643</td>\n",
       "      <td>23.0</td>\n",
       "      <td>San Francisco</td>\n",
       "    </tr>\n",
       "    <tr>\n",
       "      <th>446</th>\n",
       "      <td>40</td>\n",
       "      <td>49</td>\n",
       "      <td>8/31/2013 11:15</td>\n",
       "      <td>8/31/2013 11:36</td>\n",
       "      <td>Customer</td>\n",
       "      <td>#Harry Bridges Plaza (Ferry Building)...</td>\n",
       "      <td>37.795392</td>\n",
       "      <td>-122.394203</td>\n",
       "      <td>23.0</td>\n",
       "      <td>San Francisco</td>\n",
       "    </tr>\n",
       "    <tr>\n",
       "      <th>450</th>\n",
       "      <td>54</td>\n",
       "      <td>40</td>\n",
       "      <td>8/31/2013 13:10</td>\n",
       "      <td>8/31/2013 13:31</td>\n",
       "      <td>Customer</td>\n",
       "      <td>#Townsend at 7th#</td>\n",
       "      <td>NaN</td>\n",
       "      <td>NaN</td>\n",
       "      <td>15.0</td>\n",
       "      <td>San Francisco</td>\n",
       "    </tr>\n",
       "    <tr>\n",
       "      <th>456</th>\n",
       "      <td>59</td>\n",
       "      <td>40</td>\n",
       "      <td>8/31/2013 12:11</td>\n",
       "      <td>8/31/2013 12:32</td>\n",
       "      <td>Customer</td>\n",
       "      <td>#San Francisco Caltrain (Townsend at ...</td>\n",
       "      <td>37.776617</td>\n",
       "      <td>-122.395260</td>\n",
       "      <td>19.0</td>\n",
       "      <td>San Francisco</td>\n",
       "    </tr>\n",
       "    <tr>\n",
       "      <th>469</th>\n",
       "      <td>48</td>\n",
       "      <td>64</td>\n",
       "      <td>8/31/2013 16:31</td>\n",
       "      <td>8/31/2013 16:53</td>\n",
       "      <td>Customer</td>\n",
       "      <td>#Golden Gate at Polk#</td>\n",
       "      <td>37.781332</td>\n",
       "      <td>-122.418603</td>\n",
       "      <td>23.0</td>\n",
       "      <td>San Francisco</td>\n",
       "    </tr>\n",
       "    <tr>\n",
       "      <th>472</th>\n",
       "      <td>47</td>\n",
       "      <td>40</td>\n",
       "      <td>8/31/2013 11:34</td>\n",
       "      <td>8/31/2013 11:56</td>\n",
       "      <td>Customer</td>\n",
       "      <td>#San Francisco City Hall#</td>\n",
       "      <td>37.778650</td>\n",
       "      <td>-122.418235</td>\n",
       "      <td>19.0</td>\n",
       "      <td>San Francisco</td>\n",
       "    </tr>\n",
       "    <tr>\n",
       "      <th>483</th>\n",
       "      <td>60</td>\n",
       "      <td>63</td>\n",
       "      <td>8/31/2013 12:43</td>\n",
       "      <td>8/31/2013 13:06</td>\n",
       "      <td>Customer</td>\n",
       "      <td>#Powell at Post (Union Square)#</td>\n",
       "      <td>37.788446</td>\n",
       "      <td>-122.408499</td>\n",
       "      <td>19.0</td>\n",
       "      <td>San Francisco</td>\n",
       "    </tr>\n",
       "    <tr>\n",
       "      <th>493</th>\n",
       "      <td>62</td>\n",
       "      <td>49</td>\n",
       "      <td>8/31/2013 15:22</td>\n",
       "      <td>8/31/2013 15:46</td>\n",
       "      <td>Customer</td>\n",
       "      <td>#Grant Avenue at Columbus Avenue#    ...</td>\n",
       "      <td>37.798522</td>\n",
       "      <td>-122.407245</td>\n",
       "      <td>15.0</td>\n",
       "      <td>San Francisco</td>\n",
       "    </tr>\n",
       "    <tr>\n",
       "      <th>499</th>\n",
       "      <td>32</td>\n",
       "      <td>27</td>\n",
       "      <td>8/31/2013 13:11</td>\n",
       "      <td>8/31/2013 13:36</td>\n",
       "      <td>Customer</td>\n",
       "      <td>#Park at Olive#</td>\n",
       "      <td>37.425684</td>\n",
       "      <td>-122.137777</td>\n",
       "      <td>15.0</td>\n",
       "      <td>Palo Alto</td>\n",
       "    </tr>\n",
       "    <tr>\n",
       "      <th>511</th>\n",
       "      <td>62</td>\n",
       "      <td>65</td>\n",
       "      <td>8/31/2013 16:50</td>\n",
       "      <td>8/31/2013 17:16</td>\n",
       "      <td>Customer</td>\n",
       "      <td>#Grant Avenue at Columbus Avenue#    ...</td>\n",
       "      <td>37.798522</td>\n",
       "      <td>-122.407245</td>\n",
       "      <td>15.0</td>\n",
       "      <td>San Francisco</td>\n",
       "    </tr>\n",
       "    <tr>\n",
       "      <th>512</th>\n",
       "      <td>50</td>\n",
       "      <td>40</td>\n",
       "      <td>8/31/2013 10:26</td>\n",
       "      <td>8/31/2013 10:52</td>\n",
       "      <td>Customer</td>\n",
       "      <td>#2nd at Townsend#</td>\n",
       "      <td>37.780526</td>\n",
       "      <td>-122.390288</td>\n",
       "      <td>27.0</td>\n",
       "      <td>San Francisco</td>\n",
       "    </tr>\n",
       "    <tr>\n",
       "      <th>513</th>\n",
       "      <td>35</td>\n",
       "      <td>43</td>\n",
       "      <td>8/31/2013 14:04</td>\n",
       "      <td>8/31/2013 14:30</td>\n",
       "      <td>Customer</td>\n",
       "      <td>#Commercial at Montgomery#</td>\n",
       "      <td>37.794231</td>\n",
       "      <td>-122.402923</td>\n",
       "      <td>15.0</td>\n",
       "      <td>San Francisco</td>\n",
       "    </tr>\n",
       "    <tr>\n",
       "      <th>517</th>\n",
       "      <td>50</td>\n",
       "      <td>50</td>\n",
       "      <td>8/31/2013 9:58</td>\n",
       "      <td>8/31/2013 10:24</td>\n",
       "      <td>Customer</td>\n",
       "      <td>#2nd at Townsend#</td>\n",
       "      <td>37.780526</td>\n",
       "      <td>-122.390288</td>\n",
       "      <td>27.0</td>\n",
       "      <td>San Francisco</td>\n",
       "    </tr>\n",
       "    <tr>\n",
       "      <th>520</th>\n",
       "      <td>60</td>\n",
       "      <td>63</td>\n",
       "      <td>8/31/2013 16:23</td>\n",
       "      <td>8/31/2013 16:50</td>\n",
       "      <td>Customer</td>\n",
       "      <td>#Powell at Post (Union Square)#</td>\n",
       "      <td>37.788446</td>\n",
       "      <td>-122.408499</td>\n",
       "      <td>19.0</td>\n",
       "      <td>San Francisco</td>\n",
       "    </tr>\n",
       "    <tr>\n",
       "      <th>529</th>\n",
       "      <td>49</td>\n",
       "      <td>58</td>\n",
       "      <td>8/31/2013 17:15</td>\n",
       "      <td>8/31/2013 17:43</td>\n",
       "      <td>Customer</td>\n",
       "      <td>#Embarcadero at Sansome#</td>\n",
       "      <td>37.804770</td>\n",
       "      <td>-122.403234</td>\n",
       "      <td>15.0</td>\n",
       "      <td>San Francisco</td>\n",
       "    </tr>\n",
       "    <tr>\n",
       "      <th>544</th>\n",
       "      <td>41</td>\n",
       "      <td>49</td>\n",
       "      <td>8/31/2013 18:22</td>\n",
       "      <td>8/31/2013 18:52</td>\n",
       "      <td>Customer</td>\n",
       "      <td>#Embarcadero at Folsom#</td>\n",
       "      <td>37.791464</td>\n",
       "      <td>-122.391034</td>\n",
       "      <td>19.0</td>\n",
       "      <td>San Francisco</td>\n",
       "    </tr>\n",
       "    <tr>\n",
       "      <th>549</th>\n",
       "      <td>49</td>\n",
       "      <td>60</td>\n",
       "      <td>8/31/2013 13:27</td>\n",
       "      <td>8/31/2013 13:59</td>\n",
       "      <td>Customer</td>\n",
       "      <td>#Embarcadero at Sansome#</td>\n",
       "      <td>37.804770</td>\n",
       "      <td>-122.403234</td>\n",
       "      <td>15.0</td>\n",
       "      <td>San Francisco</td>\n",
       "    </tr>\n",
       "    <tr>\n",
       "      <th>551</th>\n",
       "      <td>63</td>\n",
       "      <td>63</td>\n",
       "      <td>8/31/2013 11:04</td>\n",
       "      <td>8/31/2013 11:37</td>\n",
       "      <td>Customer</td>\n",
       "      <td>#Steuart at Market#</td>\n",
       "      <td>37.794139</td>\n",
       "      <td>-122.394434</td>\n",
       "      <td>23.0</td>\n",
       "      <td>San Francisco</td>\n",
       "    </tr>\n",
       "    <tr>\n",
       "      <th>556</th>\n",
       "      <td>40</td>\n",
       "      <td>49</td>\n",
       "      <td>8/31/2013 14:39</td>\n",
       "      <td>8/31/2013 15:13</td>\n",
       "      <td>Customer</td>\n",
       "      <td>#Harry Bridges Plaza (Ferry Building)...</td>\n",
       "      <td>37.795392</td>\n",
       "      <td>-122.394203</td>\n",
       "      <td>23.0</td>\n",
       "      <td>San Francisco</td>\n",
       "    </tr>\n",
       "    <tr>\n",
       "      <th>581</th>\n",
       "      <td>65</td>\n",
       "      <td>53</td>\n",
       "      <td>8/31/2013 17:17</td>\n",
       "      <td>8/31/2013 18:05</td>\n",
       "      <td>Customer</td>\n",
       "      <td>#Market at 4th#</td>\n",
       "      <td>37.786305</td>\n",
       "      <td>-122.404966</td>\n",
       "      <td>NaN</td>\n",
       "      <td>San Francisco</td>\n",
       "    </tr>\n",
       "    <tr>\n",
       "      <th>598</th>\n",
       "      <td>43</td>\n",
       "      <td>60</td>\n",
       "      <td>8/31/2013 15:08</td>\n",
       "      <td>8/31/2013 16:06</td>\n",
       "      <td>Customer</td>\n",
       "      <td>#Embarcadero at Bryant#</td>\n",
       "      <td>37.787152</td>\n",
       "      <td>-122.388013</td>\n",
       "      <td>15.0</td>\n",
       "      <td>San Francisco</td>\n",
       "    </tr>\n",
       "    <tr>\n",
       "      <th>600</th>\n",
       "      <td>43</td>\n",
       "      <td>60</td>\n",
       "      <td>8/31/2013 15:07</td>\n",
       "      <td>8/31/2013 16:06</td>\n",
       "      <td>Customer</td>\n",
       "      <td>#Embarcadero at Bryant#</td>\n",
       "      <td>37.787152</td>\n",
       "      <td>-122.388013</td>\n",
       "      <td>15.0</td>\n",
       "      <td>San Francisco</td>\n",
       "    </tr>\n",
       "    <tr>\n",
       "      <th>615</th>\n",
       "      <td>62</td>\n",
       "      <td>62</td>\n",
       "      <td>8/31/2013 12:22</td>\n",
       "      <td>8/31/2013 13:52</td>\n",
       "      <td>Customer</td>\n",
       "      <td>#Grant Avenue at Columbus Avenue#    ...</td>\n",
       "      <td>37.798522</td>\n",
       "      <td>-122.407245</td>\n",
       "      <td>15.0</td>\n",
       "      <td>San Francisco</td>\n",
       "    </tr>\n",
       "    <tr>\n",
       "      <th>619</th>\n",
       "      <td>52</td>\n",
       "      <td>38</td>\n",
       "      <td>8/31/2013 13:40</td>\n",
       "      <td>8/31/2013 15:12</td>\n",
       "      <td>Customer</td>\n",
       "      <td>#Howard at 2nd#</td>\n",
       "      <td>37.786978</td>\n",
       "      <td>-122.398108</td>\n",
       "      <td>19.0</td>\n",
       "      <td>San Francisco</td>\n",
       "    </tr>\n",
       "    <tr>\n",
       "      <th>644</th>\n",
       "      <td>33</td>\n",
       "      <td>33</td>\n",
       "      <td>8/31/2013 9:53</td>\n",
       "      <td>8/31/2013 12:43</td>\n",
       "      <td>Customer</td>\n",
       "      <td>#Clay at Battery#</td>\n",
       "      <td>37.795001</td>\n",
       "      <td>-122.399970</td>\n",
       "      <td>15.0</td>\n",
       "      <td>San Francisco</td>\n",
       "    </tr>\n",
       "    <tr>\n",
       "      <th>651</th>\n",
       "      <td>38</td>\n",
       "      <td>33</td>\n",
       "      <td>8/31/2013 14:04</td>\n",
       "      <td>8/31/2013 17:18</td>\n",
       "      <td>Customer</td>\n",
       "      <td>#Embarcadero at Vallejo#</td>\n",
       "      <td>37.799953</td>\n",
       "      <td>-122.398525</td>\n",
       "      <td>15.0</td>\n",
       "      <td>San Francisco</td>\n",
       "    </tr>\n",
       "    <tr>\n",
       "      <th>679</th>\n",
       "      <td>45</td>\n",
       "      <td>45</td>\n",
       "      <td>8/31/2013 12:21</td>\n",
       "      <td>8/31/2013 17:31</td>\n",
       "      <td>Customer</td>\n",
       "      <td>#Beale at Market#</td>\n",
       "      <td>37.792251</td>\n",
       "      <td>-122.397086</td>\n",
       "      <td>19.0</td>\n",
       "      <td>San Francisco</td>\n",
       "    </tr>\n",
       "  </tbody>\n",
       "</table>\n",
       "<p>172 rows × 10 columns</p>\n",
       "</div>"
      ],
      "text/plain": [
       "    start_id  end_id       start_date         end_date subscription_type  \\\n",
       "39        56      55  8/29/2013 16:27  8/29/2013 16:30        Subscriber   \n",
       "46        48      47  8/29/2013 16:15  8/29/2013 16:18        Subscriber   \n",
       "51        57      46  8/29/2013 17:57  8/29/2013 18:00          Customer   \n",
       "69        55      47  8/29/2013 13:58  8/29/2013 14:02        Subscriber   \n",
       "72        58      54  8/29/2013 15:39  8/29/2013 15:43        Subscriber   \n",
       "113       38      34  8/29/2013 13:01  8/29/2013 13:06        Subscriber   \n",
       "146       60      37  8/29/2013 15:32  8/29/2013 15:38          Customer   \n",
       "157       34      62  8/29/2013 16:12  8/29/2013 16:18          Customer   \n",
       "204       56      48  8/29/2013 17:13  8/29/2013 17:20        Subscriber   \n",
       "229       66      65  8/29/2013 13:16  8/29/2013 13:24          Customer   \n",
       "234       47      48  8/29/2013 17:59  8/29/2013 18:07        Subscriber   \n",
       "250       66      40  8/29/2013 12:10  8/29/2013 12:19        Subscriber   \n",
       "251       40      38  8/29/2013 16:17  8/29/2013 16:26        Subscriber   \n",
       "262       61      65  8/29/2013 12:55  8/29/2013 13:04        Subscriber   \n",
       "265       43      40  8/29/2013 18:56  8/29/2013 19:05        Subscriber   \n",
       "272       37      62  8/29/2013 18:26  8/29/2013 18:35          Customer   \n",
       "292       56      42  8/29/2013 17:09  8/29/2013 17:18        Subscriber   \n",
       "295        2      12  8/29/2013 22:06  8/29/2013 22:16        Subscriber   \n",
       "296       61      54  8/29/2013 18:55  8/29/2013 19:05        Subscriber   \n",
       "302       47      55  8/29/2013 12:24  8/29/2013 12:34        Subscriber   \n",
       "311       55      42  8/29/2013 16:36  8/29/2013 16:46        Subscriber   \n",
       "353       42      40  8/29/2013 15:26  8/29/2013 15:38        Subscriber   \n",
       "356       42      40  8/29/2013 15:26  8/29/2013 15:38        Subscriber   \n",
       "363       63      49  8/29/2013 12:41  8/29/2013 12:53        Subscriber   \n",
       "376       62      60  8/29/2013 21:14  8/29/2013 21:26          Customer   \n",
       "377       65      40  8/29/2013 15:20  8/29/2013 15:32        Subscriber   \n",
       "378       65      40  8/29/2013 15:20  8/29/2013 15:32        Subscriber   \n",
       "431       40      65  8/29/2013 16:14  8/29/2013 16:27        Subscriber   \n",
       "434       40      49  8/29/2013 20:13  8/29/2013 20:26          Customer   \n",
       "441       55      51  8/29/2013 17:58  8/29/2013 18:12        Subscriber   \n",
       "..       ...     ...              ...              ...               ...   \n",
       "413       30      29  8/31/2013 12:20  8/31/2013 12:39          Customer   \n",
       "421       40      61  8/31/2013 18:29  8/31/2013 18:48          Customer   \n",
       "426       63      59  8/31/2013 11:39  8/31/2013 11:58          Customer   \n",
       "435       44      55  8/31/2013 16:31  8/31/2013 16:51          Customer   \n",
       "446       40      49  8/31/2013 11:15  8/31/2013 11:36          Customer   \n",
       "450       54      40  8/31/2013 13:10  8/31/2013 13:31          Customer   \n",
       "456       59      40  8/31/2013 12:11  8/31/2013 12:32          Customer   \n",
       "469       48      64  8/31/2013 16:31  8/31/2013 16:53          Customer   \n",
       "472       47      40  8/31/2013 11:34  8/31/2013 11:56          Customer   \n",
       "483       60      63  8/31/2013 12:43  8/31/2013 13:06          Customer   \n",
       "493       62      49  8/31/2013 15:22  8/31/2013 15:46          Customer   \n",
       "499       32      27  8/31/2013 13:11  8/31/2013 13:36          Customer   \n",
       "511       62      65  8/31/2013 16:50  8/31/2013 17:16          Customer   \n",
       "512       50      40  8/31/2013 10:26  8/31/2013 10:52          Customer   \n",
       "513       35      43  8/31/2013 14:04  8/31/2013 14:30          Customer   \n",
       "517       50      50   8/31/2013 9:58  8/31/2013 10:24          Customer   \n",
       "520       60      63  8/31/2013 16:23  8/31/2013 16:50          Customer   \n",
       "529       49      58  8/31/2013 17:15  8/31/2013 17:43          Customer   \n",
       "544       41      49  8/31/2013 18:22  8/31/2013 18:52          Customer   \n",
       "549       49      60  8/31/2013 13:27  8/31/2013 13:59          Customer   \n",
       "551       63      63  8/31/2013 11:04  8/31/2013 11:37          Customer   \n",
       "556       40      49  8/31/2013 14:39  8/31/2013 15:13          Customer   \n",
       "581       65      53  8/31/2013 17:17  8/31/2013 18:05          Customer   \n",
       "598       43      60  8/31/2013 15:08  8/31/2013 16:06          Customer   \n",
       "600       43      60  8/31/2013 15:07  8/31/2013 16:06          Customer   \n",
       "615       62      62  8/31/2013 12:22  8/31/2013 13:52          Customer   \n",
       "619       52      38  8/31/2013 13:40  8/31/2013 15:12          Customer   \n",
       "644       33      33   8/31/2013 9:53  8/31/2013 12:43          Customer   \n",
       "651       38      33  8/31/2013 14:04  8/31/2013 17:18          Customer   \n",
       "679       45      45  8/31/2013 12:21  8/31/2013 17:31          Customer   \n",
       "\n",
       "                                            start_name  start_lat  start_long  \\\n",
       "39                           #Market at 10th#           37.776619 -122.417385   \n",
       "46                      #Golden Gate at Polk#           37.781332 -122.418603   \n",
       "51            #Yerba Buena Center of the Arts (3rd ...  37.784878 -122.401014   \n",
       "69                 #South Van Ness at Market#           37.774814 -122.418954   \n",
       "72            #San Francisco Caltrain 2 (330 Townse...  37.776600 -122.395470   \n",
       "113                  #Embarcadero at Vallejo#           37.799953 -122.398525   \n",
       "146           #Powell at Post (Union Square)#           37.788446 -122.408499   \n",
       "157                        #Davis at Jackson#           37.797280 -122.398436   \n",
       "204                          #Market at 10th#           37.776619 -122.417385   \n",
       "229                       #Market at Sansome#           37.789625 -122.400811   \n",
       "234                 #San Francisco City Hall#           37.778650 -122.418235   \n",
       "250                       #Market at Sansome#           37.789625 -122.400811   \n",
       "251           #Harry Bridges Plaza (Ferry Building)...  37.795392 -122.394203   \n",
       "262           #Civic Center BART (7th at Market)#  ...  37.781039 -122.411748   \n",
       "265                   #Embarcadero at Bryant#           37.787152 -122.388013   \n",
       "272                         #Post at Kearney#           37.788975 -122.403452   \n",
       "292                          #Market at 10th#           37.776619 -122.417385   \n",
       "295                   #San Jose Civic Center#           37.330698 -121.888979   \n",
       "296           #Civic Center BART (7th at Market)#  ...  37.781039 -122.411748   \n",
       "302                 #San Francisco City Hall#           37.778650 -122.418235   \n",
       "311                #South Van Ness at Market#           37.774814 -122.418954   \n",
       "353                      #Powell Street BART#           37.783871 -122.408433   \n",
       "356                      #Powell Street BART#           37.783871 -122.408433   \n",
       "363                       #Steuart at Market#           37.794139 -122.394434   \n",
       "376           #Grant Avenue at Columbus Avenue#    ...  37.798522 -122.407245   \n",
       "377                           #Market at 4th#           37.786305 -122.404966   \n",
       "378                           #Market at 4th#           37.786305 -122.404966   \n",
       "431           #Harry Bridges Plaza (Ferry Building)...  37.795392 -122.394203   \n",
       "434           #Harry Bridges Plaza (Ferry Building)...  37.795392 -122.394203   \n",
       "441                #South Van Ness at Market#           37.774814 -122.418954   \n",
       "..                                                 ...        ...         ...   \n",
       "413           #California Ave Caltrain Station#    ...  37.429082 -122.142805   \n",
       "421           #Harry Bridges Plaza (Ferry Building)...  37.795392 -122.394203   \n",
       "426                       #Steuart at Market#           37.794139 -122.394434   \n",
       "435           #Temporary Transbay Terminal (Howard ...  37.789756 -122.394643   \n",
       "446           #Harry Bridges Plaza (Ferry Building)...  37.795392 -122.394203   \n",
       "450                         #Townsend at 7th#                 NaN         NaN   \n",
       "456           #San Francisco Caltrain (Townsend at ...  37.776617 -122.395260   \n",
       "469                     #Golden Gate at Polk#           37.781332 -122.418603   \n",
       "472                 #San Francisco City Hall#           37.778650 -122.418235   \n",
       "483           #Powell at Post (Union Square)#           37.788446 -122.408499   \n",
       "493           #Grant Avenue at Columbus Avenue#    ...  37.798522 -122.407245   \n",
       "499                           #Park at Olive#           37.425684 -122.137777   \n",
       "511           #Grant Avenue at Columbus Avenue#    ...  37.798522 -122.407245   \n",
       "512                         #2nd at Townsend#           37.780526 -122.390288   \n",
       "513                #Commercial at Montgomery#           37.794231 -122.402923   \n",
       "517                         #2nd at Townsend#           37.780526 -122.390288   \n",
       "520           #Powell at Post (Union Square)#           37.788446 -122.408499   \n",
       "529                  #Embarcadero at Sansome#           37.804770 -122.403234   \n",
       "544                   #Embarcadero at Folsom#           37.791464 -122.391034   \n",
       "549                  #Embarcadero at Sansome#           37.804770 -122.403234   \n",
       "551                       #Steuart at Market#           37.794139 -122.394434   \n",
       "556           #Harry Bridges Plaza (Ferry Building)...  37.795392 -122.394203   \n",
       "581                           #Market at 4th#           37.786305 -122.404966   \n",
       "598                   #Embarcadero at Bryant#           37.787152 -122.388013   \n",
       "600                   #Embarcadero at Bryant#           37.787152 -122.388013   \n",
       "615           #Grant Avenue at Columbus Avenue#    ...  37.798522 -122.407245   \n",
       "619                           #Howard at 2nd#           37.786978 -122.398108   \n",
       "644                         #Clay at Battery#           37.795001 -122.399970   \n",
       "651                  #Embarcadero at Vallejo#           37.799953 -122.398525   \n",
       "679                         #Beale at Market#           37.792251 -122.397086   \n",
       "\n",
       "     start_docks     start_city  \n",
       "39          27.0  San Francisco  \n",
       "46          23.0  San Francisco  \n",
       "51          19.0  San Francisco  \n",
       "69          19.0  San Francisco  \n",
       "72          23.0  San Francisco  \n",
       "113         15.0  San Francisco  \n",
       "146         19.0  San Francisco  \n",
       "157         15.0  San Francisco  \n",
       "204         27.0  San Francisco  \n",
       "229         27.0  San Francisco  \n",
       "234         19.0  San Francisco  \n",
       "250         27.0  San Francisco  \n",
       "251         23.0  San Francisco  \n",
       "262         23.0  San Francisco  \n",
       "265         15.0  San Francisco  \n",
       "272         19.0  San Francisco  \n",
       "292         27.0  San Francisco  \n",
       "295         15.0       San Jose  \n",
       "296         23.0  San Francisco  \n",
       "302         19.0  San Francisco  \n",
       "311         19.0  San Francisco  \n",
       "353         19.0  San Francisco  \n",
       "356         19.0  San Francisco  \n",
       "363         23.0  San Francisco  \n",
       "376         15.0  San Francisco  \n",
       "377          NaN  San Francisco  \n",
       "378          NaN  San Francisco  \n",
       "431         23.0  San Francisco  \n",
       "434         23.0  San Francisco  \n",
       "441         19.0  San Francisco  \n",
       "..           ...            ...  \n",
       "413         15.0      Palo Alto  \n",
       "421         23.0  San Francisco  \n",
       "426         23.0  San Francisco  \n",
       "435         23.0  San Francisco  \n",
       "446         23.0  San Francisco  \n",
       "450         15.0  San Francisco  \n",
       "456         19.0  San Francisco  \n",
       "469         23.0  San Francisco  \n",
       "472         19.0  San Francisco  \n",
       "483         19.0  San Francisco  \n",
       "493         15.0  San Francisco  \n",
       "499         15.0      Palo Alto  \n",
       "511         15.0  San Francisco  \n",
       "512         27.0  San Francisco  \n",
       "513         15.0  San Francisco  \n",
       "517         27.0  San Francisco  \n",
       "520         19.0  San Francisco  \n",
       "529         15.0  San Francisco  \n",
       "544         19.0  San Francisco  \n",
       "549         15.0  San Francisco  \n",
       "551         23.0  San Francisco  \n",
       "556         23.0  San Francisco  \n",
       "581          NaN  San Francisco  \n",
       "598         15.0  San Francisco  \n",
       "600         15.0  San Francisco  \n",
       "615         15.0  San Francisco  \n",
       "619         19.0  San Francisco  \n",
       "644         15.0  San Francisco  \n",
       "651         15.0  San Francisco  \n",
       "679         19.0  San Francisco  \n",
       "\n",
       "[172 rows x 10 columns]"
      ]
     },
     "execution_count": 8,
     "metadata": {},
     "output_type": "execute_result"
    }
   ],
   "source": [
    "# 查看'stations'中是否存在重复值\n",
    "trips_stations_dup = trips_stations.duplicated()\n",
    "trips_stations[trips_stations_dup]"
   ]
  },
  {
   "cell_type": "code",
   "execution_count": null,
   "metadata": {
    "collapsed": true
   },
   "outputs": [],
   "source": [
    "# 删除重复值\n",
    "trips_stations = trips_stations.drop_duplicates()"
   ]
  },
  {
   "cell_type": "code",
   "execution_count": null,
   "metadata": {
    "collapsed": true,
    "scrolled": false
   },
   "outputs": [],
   "source": [
    "# 检查重复值是否已被删除\n",
    "trips_stations_dup = trips_stations.duplicated()\n",
    "trips_stations[trips_stations_dup]"
   ]
  },
  {
   "cell_type": "markdown",
   "metadata": {},
   "source": [
    "### 处理缺失值"
   ]
  },
  {
   "cell_type": "markdown",
   "metadata": {},
   "source": [
    "#### 7. 查看 trips_stations 中是否包含有缺失值，并且处理缺失值"
   ]
  },
  {
   "cell_type": "code",
   "execution_count": null,
   "metadata": {
    "collapsed": true
   },
   "outputs": [],
   "source": [
    "# 查看’trips'文件中是否含有缺失值\n",
    "isNA_trips_stations = trips_stations.isnull()\n",
    "trips_stations[isNA_trips_stations.any(axis=1)]"
   ]
  },
  {
   "cell_type": "code",
   "execution_count": null,
   "metadata": {
    "collapsed": true
   },
   "outputs": [],
   "source": [
    "# 向上填充缺失值\n",
    "trips_stations['start_docks'].ffill()"
   ]
  },
  {
   "cell_type": "code",
   "execution_count": null,
   "metadata": {
    "collapsed": true
   },
   "outputs": [],
   "source": [
    "# 向下填充缺失值\n",
    "trips_stations['start_docks'].bfill()"
   ]
  },
  {
   "cell_type": "code",
   "execution_count": null,
   "metadata": {
    "collapsed": true
   },
   "outputs": [],
   "source": [
    "# 中位数填充缺失值\n",
    "docks_median = trips_stations['start_docks'].median()\n",
    "trips_stations['start_docks'].fillna(docks_median)"
   ]
  },
  {
   "cell_type": "code",
   "execution_count": null,
   "metadata": {
    "collapsed": true
   },
   "outputs": [],
   "source": [
    "# 修改原数据\n",
    "trips_stations['start_docks'] = trips_stations['start_docks'].fillna(docks_median)"
   ]
  },
  {
   "cell_type": "code",
   "execution_count": null,
   "metadata": {
    "collapsed": true
   },
   "outputs": [],
   "source": [
    "# 将 lat、long 中的缺失值设置为‘未知’\n",
    "trips_stations['start_lat'] = trips_stations['start_lat'].fillna('未知')\n",
    "trips_stations['start_long'] = trips_stations['start_long'].fillna('未知')"
   ]
  },
  {
   "cell_type": "code",
   "execution_count": null,
   "metadata": {
    "collapsed": true
   },
   "outputs": [],
   "source": [
    "# 删除缺失值\n",
    "trips_stations = trips_stations.dropna()"
   ]
  },
  {
   "cell_type": "code",
   "execution_count": null,
   "metadata": {
    "collapsed": true
   },
   "outputs": [],
   "source": [
    "# 检查’trips'中的缺失值是否已被删除\n",
    "isNA_trips_stations = trips_stations.isnull()\n",
    "trips_stations[isNA_trips_stations.any(axis=1)]"
   ]
  },
  {
   "cell_type": "markdown",
   "metadata": {},
   "source": [
    "### 处理空格值"
   ]
  },
  {
   "cell_type": "markdown",
   "metadata": {},
   "source": [
    "#### 8. 去除 trips_stations 中 ‘start_name’ 列中每个字符串左右两边的空格和’#‘"
   ]
  },
  {
   "cell_type": "code",
   "execution_count": null,
   "metadata": {
    "collapsed": true
   },
   "outputs": [],
   "source": [
    "# 删除'name'列中每个字符串左边的空格(开头空格）\n",
    "trips_stations['start_name'].str.lstrip()"
   ]
  },
  {
   "cell_type": "code",
   "execution_count": null,
   "metadata": {
    "collapsed": true
   },
   "outputs": [],
   "source": [
    "# 删除'name'列中每个字符串右边的空格(尾部空格)\n",
    "trips_stations['start_name'].str.rstrip()"
   ]
  },
  {
   "cell_type": "code",
   "execution_count": null,
   "metadata": {
    "collapsed": true
   },
   "outputs": [],
   "source": [
    "# 删除'name'列中每个字符串左右两边的空格(头尾空格)，并且修改原数据\n",
    "trips_stations['start_name'] = trips_stations['start_name'].str.strip()"
   ]
  },
  {
   "cell_type": "code",
   "execution_count": null,
   "metadata": {
    "collapsed": true
   },
   "outputs": [],
   "source": [
    "# 删除字符串左边的‘#’\n",
    "trips_stations['start_name'].str.lstrip('#')"
   ]
  },
  {
   "cell_type": "code",
   "execution_count": null,
   "metadata": {
    "collapsed": true,
    "scrolled": true
   },
   "outputs": [],
   "source": [
    "# 删除字符串左边的'#'\n",
    "trips_stations['start_name'].str.rstrip('#')"
   ]
  },
  {
   "cell_type": "code",
   "execution_count": null,
   "metadata": {
    "collapsed": true
   },
   "outputs": [],
   "source": [
    "# 删除字符串两边的'#',并且修改原数据\n",
    "trips_stations['start_name'] = trips_stations['start_name'].str.strip('#')"
   ]
  },
  {
   "cell_type": "markdown",
   "metadata": {},
   "source": [
    "### 字段拆分"
   ]
  },
  {
   "cell_type": "markdown",
   "metadata": {},
   "source": [
    "#### 9. 将 'start_date' 和 'end_date' 中日期和时间进行拆分, 并分别记录在 'start_date'、'start_time'、'end_date'、'end_time'列中"
   ]
  },
  {
   "cell_type": "code",
   "execution_count": null,
   "metadata": {
    "collapsed": true
   },
   "outputs": [],
   "source": [
    "# 将'start_date'按照空格拆分成两列\n",
    "new_col_start = trips_stations['start_date'].str.split(' ', 1, True)\n",
    "# 设置列名\n",
    "new_col_start.columns = ['start_date','start_time']\n",
    "# 将'trips_station'中'start_date'更改为new_col_start中的第一列\n",
    "trips_stations['start_date'] = new_col_start['start_date']\n",
    "# 在'start_date'右侧添加一列，记录'start_time'\n",
    "trips_stations.insert(loc = 3, column = 'start_time', value = new_col_start['start_time'])\n",
    "\n",
    "trips_stations.head()"
   ]
  },
  {
   "cell_type": "code",
   "execution_count": null,
   "metadata": {
    "collapsed": true
   },
   "outputs": [],
   "source": [
    "# 将'end_date'按照空格拆分成两列\n",
    "new_col_end = trips_stations['end_date'].str.split(' ', 1, True)\n",
    "# 设置列名\n",
    "new_col_end.columns = ['end_date','end_time']\n",
    "# 将'trips_station'中'end_date'更改为new_col_end中的第一列\n",
    "trips_stations['end_date'] = new_col_end['end_date']\n",
    "# 在'end_date'右侧添加一列，记录'end_time'\n",
    "trips_stations.insert(\n",
    "    loc = 5, column = 'end_time', \n",
    "    value = new_col_end['end_time'])\n",
    "\n",
    "trips_stations.head()"
   ]
  },
  {
   "cell_type": "markdown",
   "metadata": {},
   "source": [
    "### 数据分组"
   ]
  },
  {
   "cell_type": "markdown",
   "metadata": {},
   "source": [
    "#### 10.  将每个终点车站数进行分组，分为 <br>  \n",
    "####  '13以下', '13到15', '15到17', '17到19', '19到21', '21到23', '23到25', '25以上' 几类，<br>\n",
    "#### 并且在'start_docks'列右侧增加一列'start_docks_classification'记录每个车站数所属的分类 "
   ]
  },
  {
   "cell_type": "code",
   "execution_count": null,
   "metadata": {
    "collapsed": true,
    "scrolled": false
   },
   "outputs": [],
   "source": [
    "# 输出'start_docks'的最小值和最大值\n",
    "print(min(trips_stations.start_docks), max(trips_stations.start_docks))"
   ]
  },
  {
   "cell_type": "code",
   "execution_count": null,
   "metadata": {
    "collapsed": true
   },
   "outputs": [],
   "source": [
    "# 设置分组边界\n",
    "bins = [\n",
    "    min(trips_stations.start_docks)-1, 13, 15, 17, 19, 21, 23, 25,\n",
    "    max(trips_stations.start_docks)+1\n",
    "]"
   ]
  },
  {
   "cell_type": "code",
   "execution_count": null,
   "metadata": {
    "collapsed": true
   },
   "outputs": [],
   "source": [
    "# 按照分组边界对'start_docks'进行分组\n",
    "cut = pd.cut(trips_stations.start_docks, bins, right=False)"
   ]
  },
  {
   "cell_type": "code",
   "execution_count": null,
   "metadata": {
    "collapsed": true
   },
   "outputs": [],
   "source": [
    "# 设置每个组的label\n",
    "labels = ['13以下', '13到15', '15到17', '17到19','19到21','21到23','23到25','25以上']"
   ]
  },
  {
   "cell_type": "code",
   "execution_count": null,
   "metadata": {
    "collapsed": true
   },
   "outputs": [],
   "source": [
    "# 用'labels'代替数字\n",
    "cut = pd.cut(trips_stations.start_docks, bins, right=False, labels = labels)"
   ]
  },
  {
   "cell_type": "code",
   "execution_count": null,
   "metadata": {
    "collapsed": true,
    "scrolled": true
   },
   "outputs": [],
   "source": [
    "# 将列名转化为列名列表\n",
    "col_name = trips_stations.columns.tolist()\n",
    "# 在'start_docks'右侧添加一列，记录分组结果\n",
    "trips_stations.insert(\n",
    "    loc = col_name.index('start_docks')+1, \n",
    "    column = 'start_docks_classification',\n",
    "    value = cut\n",
    ")\n",
    "trips_stations.head()"
   ]
  },
  {
   "cell_type": "markdown",
   "metadata": {
    "collapsed": true
   },
   "source": [
    "### 添加虚拟变量"
   ]
  },
  {
   "cell_type": "markdown",
   "metadata": {},
   "source": [
    "#### 11. 将'subscription_type'转化为虚拟变量，添加在dateframe的最后一列"
   ]
  },
  {
   "cell_type": "code",
   "execution_count": null,
   "metadata": {
    "collapsed": true
   },
   "outputs": [],
   "source": [
    "# 转化’subscription_type'为虚拟变量\n",
    "trips_stations_dummies = pd.get_dummies(\n",
    "    trips_stations,\n",
    "    columns = ['subscription_type'],\n",
    "    prefix=['subscription_type'],\n",
    "    prefix_sep=\"_\",\n",
    "    dummy_na=False,\n",
    "    drop_first=False\n",
    ")\n",
    "\n",
    "trips_stations_dummies['subscription_type'] = trips_stations['subscription_type']\n",
    "# prefix 在没有列标题时，给列添加前缀"
   ]
  },
  {
   "cell_type": "code",
   "execution_count": null,
   "metadata": {
    "collapsed": true
   },
   "outputs": [],
   "source": [
    "trips_stations_dummies.head()"
   ]
  },
  {
   "cell_type": "code",
   "execution_count": null,
   "metadata": {
    "collapsed": true
   },
   "outputs": [],
   "source": []
  }
 ],
 "metadata": {
  "kernelspec": {
   "display_name": "Python 3",
   "language": "python",
   "name": "python3"
  },
  "language_info": {
   "codemirror_mode": {
    "name": "ipython",
    "version": 3
   },
   "file_extension": ".py",
   "mimetype": "text/x-python",
   "name": "python",
   "nbconvert_exporter": "python",
   "pygments_lexer": "ipython3",
   "version": "3.6.3"
  }
 },
 "nbformat": 4,
 "nbformat_minor": 2
}
